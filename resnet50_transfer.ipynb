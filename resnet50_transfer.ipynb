{
 "cells": [
  {
   "cell_type": "code",
   "execution_count": 2,
   "outputs": [],
   "source": [
    "import torch\n",
    "import random\n",
    "import numpy as np\n",
    "import pandas as pd\n",
    "from glob import glob\n",
    "import os\n",
    "import cv2\n",
    "import gc\n",
    "import warnings\n",
    "\n",
    "from sklearn.model_selection import KFold\n",
    "from tqdm.auto import tqdm\n",
    "import torchvision.models as models\n",
    "from matplotlib import pyplot as plt\n",
    "from transformers import get_cosine_schedule_with_warmup\n",
    "\n",
    "device = torch.device('cuda') if torch.cuda.is_available() else torch.device('cpu') #GPU 할당\n",
    "\n",
    "warnings.filterwarnings('ignore') #경고 무시"
   ],
   "metadata": {
    "collapsed": false,
    "pycharm": {
     "name": "#%%\n"
    }
   }
  },
  {
   "cell_type": "markdown",
   "source": [
    "## 데이터 로드"
   ],
   "metadata": {
    "collapsed": false,
    "pycharm": {
     "name": "#%% md\n"
    }
   }
  },
  {
   "cell_type": "code",
   "execution_count": 3,
   "outputs": [],
   "source": [
    "os.chdir(\"C:/deep/Animals-10-classification/\")\n",
    "\n",
    "classes = [\"butterfly\", \"cat\", \"chicken\", \"cow\", \"dog\", \"elephant\", \"horse\", \"sheep\", \"spider\", \"squirrel\"]"
   ],
   "metadata": {
    "collapsed": false,
    "pycharm": {
     "name": "#%%\n"
    }
   }
  },
  {
   "cell_type": "code",
   "execution_count": 4,
   "outputs": [],
   "source": [
    "train_img = []\n",
    "test_img = []"
   ],
   "metadata": {
    "collapsed": false,
    "pycharm": {
     "name": "#%%\n"
    }
   }
  },
  {
   "cell_type": "code",
   "execution_count": 5,
   "outputs": [],
   "source": [
    "for i in classes:\n",
    "    train_jpg = sorted(glob('train_img/' + f'{i}' + '/' + f'{i}_*.jpg'))\n",
    "    train_img.extend(train_jpg)\n",
    "\n",
    "    test_jpg = sorted(glob('test_img/' + f'{i}' + '/' + f'{i}_*.jpg'))\n",
    "    test_img.extend(test_jpg)"
   ],
   "metadata": {
    "collapsed": false,
    "pycharm": {
     "name": "#%%\n"
    }
   }
  },
  {
   "cell_type": "code",
   "execution_count": 6,
   "outputs": [
    {
     "data": {
      "text/plain": "  0%|          | 0/20938 [00:00<?, ?it/s]",
      "application/vnd.jupyter.widget-view+json": {
       "version_major": 2,
       "version_minor": 0,
       "model_id": "911471b8056445b78b41a6074d3517d0"
      }
     },
     "metadata": {},
     "output_type": "display_data"
    },
    {
     "data": {
      "text/plain": "  0%|          | 0/5241 [00:00<?, ?it/s]",
      "application/vnd.jupyter.widget-view+json": {
       "version_major": 2,
       "version_minor": 0,
       "model_id": "303ae29f771e463eab85a5bdd3a2eb05"
      }
     },
     "metadata": {},
     "output_type": "display_data"
    }
   ],
   "source": [
    "def img_load(path):\n",
    "    img = cv2.imread(path)[:,:,::-1]\n",
    "    img = cv2.resize(img, (256, 256))\n",
    "    gc.collect()\n",
    "    torch.cuda.empty_cache()\n",
    "    return img\n",
    "\n",
    "train_imgs = [img_load(m) for m in tqdm(train_img)]\n",
    "test_imgs = [img_load(n) for n in tqdm(test_img)]"
   ],
   "metadata": {
    "collapsed": false,
    "pycharm": {
     "name": "#%%\n"
    }
   }
  },
  {
   "cell_type": "code",
   "execution_count": 7,
   "outputs": [],
   "source": [
    "def files_count(directory_path):\n",
    "    directory = os.listdir(directory_path)\n",
    "    return len(directory)\n",
    "\n",
    "# train data label 부여\n",
    "train_labels = []\n",
    "for i in classes:\n",
    "    length = files_count('train_img/' + f'{i}')\n",
    "    train_labels.extend([classes.index(f'{i}')] * length)"
   ],
   "metadata": {
    "collapsed": false,
    "pycharm": {
     "name": "#%%\n"
    }
   }
  },
  {
   "cell_type": "code",
   "execution_count": 8,
   "outputs": [],
   "source": [
    "# df_train = pd.DataFrame()\n",
    "# df_train['img'] = train_imgs\n",
    "# df_train['class'] = train_labels"
   ],
   "metadata": {
    "collapsed": false,
    "pycharm": {
     "name": "#%%\n"
    }
   }
  },
  {
   "cell_type": "code",
   "execution_count": 9,
   "outputs": [],
   "source": [
    "# test data label 부여\n",
    "test_labels = []\n",
    "for i in classes:\n",
    "    length = files_count('test_img/' + f'{i}')\n",
    "    test_labels.extend([classes.index(f'{i}')] * length)"
   ],
   "metadata": {
    "collapsed": false,
    "pycharm": {
     "name": "#%%\n"
    }
   }
  },
  {
   "cell_type": "code",
   "execution_count": 10,
   "outputs": [],
   "source": [
    "# df_test = pd.DataFrame()\n",
    "# df_test['img'] = test_imgs\n",
    "# df_test['class'] = label\n",
    "#\n",
    "# df_train.shape, df_test.shape"
   ],
   "metadata": {
    "collapsed": false,
    "pycharm": {
     "name": "#%%\n"
    }
   }
  },
  {
   "cell_type": "markdown",
   "source": [
    "# Hyper Parameter"
   ],
   "metadata": {
    "collapsed": false,
    "pycharm": {
     "name": "#%% md\n"
    }
   }
  },
  {
   "cell_type": "code",
   "execution_count": 66,
   "outputs": [],
   "source": [
    "HYP = {\n",
    "    'EPOCHS' : 3,\n",
    "    'BATCH_SIZE' : 32,\n",
    "    'LEARNING_RATE' : 3e-4,\n",
    "    'log' : True,\n",
    "    'SEED': 41,\n",
    "    'IMG_SIZE': 256\n",
    "}\n",
    "\n",
    "def seed_everything(seed):\n",
    "    random.seed(seed)\n",
    "    os.environ['PYTHONHASHSEED'] = str(seed)\n",
    "    np.random.seed(seed)\n",
    "    torch.manual_seed(seed)\n",
    "    torch.cuda.manual_seed(seed)\n",
    "    torch.backends.cudnn.deterministic = True\n",
    "    torch.backends.cudnn.benchmark = True\n",
    "\n",
    "seed_everything(HYP['SEED'])"
   ],
   "metadata": {
    "collapsed": false,
    "pycharm": {
     "name": "#%%\n"
    }
   }
  },
  {
   "cell_type": "markdown",
   "source": [
    "## Augmentation"
   ],
   "metadata": {
    "collapsed": false,
    "pycharm": {
     "name": "#%% md\n"
    }
   }
  },
  {
   "cell_type": "code",
   "execution_count": 12,
   "outputs": [],
   "source": [
    "from albumentations.augmentations.transforms import Normalize\n",
    "import albumentations as A\n",
    "from albumentations.pytorch import ToTensorV2\n",
    "\n",
    "train_transform = A.Compose([\n",
    "        A.RandomBrightnessContrast(brightness_limit=0.1, contrast_limit=0.1),\n",
    "        A.RandomGamma(gamma_limit=(90, 110)),\n",
    "        A.ShiftScaleRotate(scale_limit=0.1, rotate_limit=10),\n",
    "        A.Transpose(),\n",
    "        A.RandomRotate90(),\n",
    "        A.OneOf([A.NoOp(), A.MultiplicativeNoise(), A.GaussNoise(), A.ISONoise()]),\n",
    "        A.OneOf(\n",
    "            [\n",
    "                A.NoOp(p=0.8),\n",
    "                A.HueSaturationValue(hue_shift_limit=10, sat_shift_limit=10),\n",
    "                A.RGBShift(r_shift_limit=10, g_shift_limit=10, b_shift_limit=10)\n",
    "            ],\n",
    "            p=0.2,\n",
    "        ),\n",
    "        A.OneOf([A.ElasticTransform(), A.GridDistortion(), A.NoOp()]),\n",
    "        A.Resize(HYP['IMG_SIZE'], HYP['IMG_SIZE']),\n",
    "        A.Normalize(mean=(0.485, 0.456, 0.406), std=(0.229, 0.224, 0.225)), # Resnet 참고\n",
    "        ToTensorV2(),\n",
    "])\n",
    "\n",
    "test_transform = A.Compose([\n",
    "        A.Resize(HYP['IMG_SIZE'], HYP['IMG_SIZE']),\n",
    "        A.Normalize(mean=(0.485, 0.456, 0.406), std=(0.229, 0.224, 0.225)), # Resnet 참고\n",
    "        ToTensorV2()\n",
    "])"
   ],
   "metadata": {
    "collapsed": false,
    "pycharm": {
     "name": "#%%\n"
    }
   }
  },
  {
   "cell_type": "code",
   "execution_count": 13,
   "outputs": [],
   "source": [
    "import torch.nn as nn\n",
    "from torch.utils.data import DataLoader, Dataset\n",
    "from sklearn.metrics import f1_score\n",
    "import time\n",
    "\n",
    "class Custom_dataset(Dataset):\n",
    "    def __init__(self, img_paths, labels, mode):\n",
    "        self.img_paths = img_paths\n",
    "        self.labels = labels\n",
    "        self.mode=mode\n",
    "\n",
    "    def __len__(self):\n",
    "        return len(self.img_paths)\n",
    "\n",
    "    def __getitem__(self, idx):\n",
    "        img = self.img_paths[idx]\n",
    "        if self.mode=='train':\n",
    "            img = train_transform(image=img)\n",
    "\n",
    "        if self.mode=='test':\n",
    "            img = test_transform(image=img)\n",
    "\n",
    "        label = self.labels[idx]\n",
    "        return img, label"
   ],
   "metadata": {
    "collapsed": false,
    "pycharm": {
     "name": "#%%\n"
    }
   }
  },
  {
   "cell_type": "markdown",
   "source": [
    "## DataLoader"
   ],
   "metadata": {
    "collapsed": false,
    "pycharm": {
     "name": "#%% md\n"
    }
   }
  },
  {
   "cell_type": "code",
   "execution_count": 14,
   "outputs": [],
   "source": [
    "#CustomDataset class를 통하여 train dataset생성\n",
    "# train_dataset = Custom_dataset(np.array(train_imgs), np.array(train_labels), mode='train')\n",
    "#만든 train dataset를 DataLoader에 넣어 batch 만들기\n",
    "# train_loader = DataLoader(train_dataset, batch_size = HYP[\"BATCH_SIZE\"], shuffle=True, num_workers=0)\n",
    "\n",
    "#CustomDataset class를 통하여 test dataset생성\n",
    "test_dataset = Custom_dataset(np.array(test_imgs), np.array([\"tmp\"]*len(test_imgs)), mode='test')\n",
    "#만든 test dataset를 DataLoader에 넣어 batch 만들기\n",
    "test_loader = DataLoader(test_dataset, batch_size = HYP[\"BATCH_SIZE\"], shuffle=False, num_workers=0)"
   ],
   "metadata": {
    "collapsed": false,
    "pycharm": {
     "name": "#%%\n"
    }
   }
  },
  {
   "cell_type": "markdown",
   "source": [
    "## Model Architecture"
   ],
   "metadata": {
    "collapsed": false,
    "pycharm": {
     "name": "#%% md\n"
    }
   }
  },
  {
   "cell_type": "code",
   "execution_count": 15,
   "outputs": [],
   "source": [
    "def count_parameters(model):\n",
    "    total_params = 0\n",
    "    for name, parameter in model.named_parameters():\n",
    "        if not parameter.requires_grad:\n",
    "            continue\n",
    "        param = parameter.numel()\n",
    "        total_params+=param\n",
    "    print(f\"Total Trainable Params: {total_params}\")\n",
    "    return total_params"
   ],
   "metadata": {
    "collapsed": false,
    "pycharm": {
     "name": "#%%\n"
    }
   }
  },
  {
   "cell_type": "code",
   "execution_count": 56,
   "outputs": [],
   "source": [
    "class Resnet50(torch.nn.Module):\n",
    "    def __init__(self):\n",
    "        super(Resnet50, self).__init__()\n",
    "        self.model = models.resnet50(pretrained=True)\n",
    "\n",
    "        num_ftrs = self.model.fc.in_features\n",
    "        self.model.fc = nn.Linear(num_ftrs, 10)\n",
    "\n",
    "        count_parameters(self.model)\n",
    "    def forward(self, inputs):\n",
    "        output = self.model(inputs)\n",
    "        return output\n",
    "\n",
    "class Network_b3(nn.Module):\n",
    "    def __init__(self):\n",
    "        super(Network_b3, self).__init__()\n",
    "        self.model = models.efficientnet_b3(pretrained=True)\n",
    "\n",
    "        # num_ftrs = self.model.fc.in_features\n",
    "        # self.model.fc = nn.Linear(num_ftrs, 10)\n",
    "\n",
    "        count_parameters(self.model)\n",
    "    def forward(self, inputs):\n",
    "        output = self.model(inputs)\n",
    "        return output"
   ],
   "metadata": {
    "collapsed": false,
    "pycharm": {
     "name": "#%%\n"
    }
   }
  },
  {
   "cell_type": "markdown",
   "source": [
    "## Loss"
   ],
   "metadata": {
    "collapsed": false,
    "pycharm": {
     "name": "#%% md\n"
    }
   }
  },
  {
   "cell_type": "code",
   "execution_count": 57,
   "outputs": [],
   "source": [
    "def score_function(real, pred):\n",
    "    score = f1_score(real, pred, average=\"macro\")\n",
    "    return score"
   ],
   "metadata": {
    "collapsed": false,
    "pycharm": {
     "name": "#%%\n"
    }
   }
  },
  {
   "cell_type": "markdown",
   "source": [
    "## Train"
   ],
   "metadata": {
    "collapsed": false,
    "pycharm": {
     "name": "#%% md\n"
    }
   }
  },
  {
   "cell_type": "code",
   "execution_count": 58,
   "outputs": [],
   "source": [
    "# Resnet = Resnet50().to(device)\n",
    "#\n",
    "# optimizer = torch.optim.Adam(Resnet.parameters(), lr=HYP['LEARNING_RATE'])\n",
    "# criterion = nn.CrossEntropyLoss()\n",
    "# scaler = torch.cuda.amp.GradScaler()\n",
    "#\n",
    "# path = './weights/'\n",
    "# if not os.path.isdir(path):\n",
    "#     os.mkdir(path)\n",
    "#\n",
    "# epochs = HYP['EPOCHS']\n",
    "#\n",
    "# for epoch in range(epochs):\n",
    "#     start=time.time()\n",
    "#     train_loss = 0\n",
    "#     train_pred=[]\n",
    "#     train_y=[]\n",
    "#     Resnet.train()\n",
    "#     for batch in (train_loader):\n",
    "#         optimizer.zero_grad()\n",
    "#         x = torch.tensor(batch[0]['image'], dtype=torch.float32, device=device)\n",
    "#         y = torch.tensor(batch[1], dtype=torch.long, device=device)\n",
    "#\n",
    "#         pred = Resnet(x)\n",
    "#         loss = criterion(pred, y)\n",
    "#\n",
    "#\n",
    "#         scaler.scale(loss).backward()\n",
    "#         scaler.step(optimizer)\n",
    "#         scaler.update()\n",
    "#\n",
    "#         train_loss += loss.item()/len(train_loader)\n",
    "#         train_pred += pred.argmax(1).detach().cpu().numpy().tolist()\n",
    "#         train_y += y.detach().cpu().numpy().tolist()\n",
    "#\n",
    "#     train_f1 = score_function(train_y, train_pred)\n",
    "#\n",
    "#     TIME = time.time() - start\n",
    "#     print(f'epoch : {epoch+1}/{epochs}    time : {TIME:.0f}s/{TIME*(epochs-epoch-1):.0f}s')\n",
    "#     print(f'TRAIN    loss : {train_loss:.5f}    f1 : {train_f1:.5f}')\n",
    "#\n",
    "#     # 모델 저장\n",
    "#     torch.save({\n",
    "#                 'epoch': epoch,\n",
    "#                 'model_state_dict': Resnet.state_dict(),\n",
    "#                 'optimizer_state_dict': optimizer.state_dict(),\n",
    "#                 \"scaler\": scaler.state_dict(),\n",
    "#                 'loss': loss,\n",
    "#                 }, f\"{path}/Resnet.pt\")"
   ],
   "metadata": {
    "collapsed": false,
    "pycharm": {
     "name": "#%%\n"
    }
   }
  },
  {
   "cell_type": "code",
   "execution_count": 59,
   "outputs": [],
   "source": [
    "path = './saved/'\n",
    "if not os.path.isdir(path):\n",
    "    os.mkdir(path)\n",
    "\n",
    "def train(model, optimizer, train_loader, vali_loader, scheduler, device, fold):\n",
    "\n",
    "    # Loss Function\n",
    "    criterion = nn.CrossEntropyLoss().to(device)\n",
    "    scaler = torch.cuda.amp.GradScaler()\n",
    "    best_f1 = 0\n",
    "\n",
    "    for epoch in range(1,HYP[\"EPOCHS\"]+1):\n",
    "        start=time.time()\n",
    "        model.train()\n",
    "        train_loss = 0\n",
    "        train_pred=[]\n",
    "        train_label=[]\n",
    "\n",
    "        for batch in (train_loader):\n",
    "            optimizer.zero_grad()\n",
    "            img = torch.tensor(batch[0]['image'], dtype=torch.float32, device=device)\n",
    "            label = torch.tensor(batch[1], dtype=torch.long, device=device)\n",
    "\n",
    "            with torch.cuda.amp.autocast():\n",
    "                pred = model(img)\n",
    "\n",
    "            # Calc loss\n",
    "            loss = criterion(pred, label)\n",
    "\n",
    "            # backpropagation\n",
    "            scaler.scale(loss).backward()\n",
    "            scaler.step(optimizer)\n",
    "            scaler.update()\n",
    "\n",
    "            train_loss += loss.item()/len(train_loader)\n",
    "            train_pred += pred.argmax(1).detach().cpu().numpy().tolist()\n",
    "            train_label += label.detach().cpu().numpy().tolist()\n",
    "\n",
    "        train_f1 = score_function(train_label, train_pred)\n",
    "\n",
    "        TIME = time.time() - start\n",
    "\n",
    "        epochs = HYP[\"EPOCHS\"]\n",
    "        print(f'epoch : {epoch}/{epochs}    time : {TIME:.0f}s/{TIME*(epochs-epoch-1):.0f}s')\n",
    "        print(f'TRAIN_loss : {train_loss:.5f}    train_f1 : {train_f1:.5f}')\n",
    "\n",
    "        if scheduler is not None:\n",
    "            scheduler.step()\n",
    "\n",
    "        # Evaluation Validation set\n",
    "        vali_f1 = validation(model, vali_loader, criterion, device)\n",
    "\n",
    "        print(f'Epoch [{epoch}] Train f1_score : [{np.mean(train_f1):.5f}] \\\n",
    "        Validation f1_score : [{vali_f1:.5f}]')\n",
    "\n",
    "        # Model Saved\n",
    "        if best_f1 < vali_f1:\n",
    "            best_f1 = vali_f1\n",
    "            torch.save(model.state_dict(), './saved/res50_fold{}.pth'.format(fold))\n",
    "            print('Model Saved.')\n",
    "\n",
    "    plt.plot(train_f1, label = 'trn')\n",
    "    plt.plot(vali_f1, label = 'vali')\n",
    "    plt.legend(loc='upper right')\n",
    "    plt.show()"
   ],
   "metadata": {
    "collapsed": false,
    "pycharm": {
     "name": "#%%\n"
    }
   }
  },
  {
   "cell_type": "code",
   "execution_count": 60,
   "outputs": [],
   "source": [
    "def validation(model, vali_loader, criterion, device):\n",
    "    model.eval() # Evaluation\n",
    "\n",
    "    vali_loss = 0\n",
    "    vali_pred = []\n",
    "    vali_label = []\n",
    "    with torch.no_grad():\n",
    "        for batch in (vali_loader):\n",
    "            img = torch.tensor(batch[0]['image'], dtype=torch.float32, device=device)\n",
    "            label = torch.tensor(batch[1], dtype=torch.long, device=device)\n",
    "\n",
    "            with torch.cuda.amp.autocast():\n",
    "                pred = model(img)\n",
    "\n",
    "            loss = criterion(pred, label)\n",
    "\n",
    "            vali_loss += loss.item()/len(vali_loader)\n",
    "            vali_pred += pred.argmax(1).detach().cpu().numpy().tolist()\n",
    "            vali_label += label.detach().cpu().numpy().tolist()\n",
    "\n",
    "            # pred = pred.squeeze(1).detach().cpu()\n",
    "            # label = label.detach().cpu().numpy().tolist()\n",
    "            # vali_label.extend(label.tolist())\n",
    "            # vali_pred.extend(pred.tolist())\n",
    "\n",
    "\n",
    "        vali_f1 = score_function(vali_label, vali_pred)\n",
    "\n",
    "\n",
    "    # if HYP['log']:\n",
    "    #     vali_nmae_loss = NMAE(np.expm1(np.array(label_true)), np.expm1(np.array(model_pred)))\n",
    "    #     diff = np.abs(np.expm1(np.array(label_true)) - np.expm1(np.array(model_pred)))\n",
    "    # else:\n",
    "    #     vali_nmae_loss = NMAE(np.array(label_true), np.array(model_pred))\n",
    "    #     diff = (np.array(label_true) - np.array(model_pred))\n",
    "\n",
    "\n",
    "    # if best_f1 > vali_f1:\n",
    "    #     plt.figure(figsize=(30,2))\n",
    "    #     plt.plot(best_f1, vali_f1)\n",
    "    #     plt.axhline(y=0.1*100, color='black')\n",
    "    #     plt.axhline(y=0.2*100, color='black')\n",
    "    #     plt.axhline(y=0.3*100, color='black')\n",
    "    #     plt.axhline(y=0.4*100, color='black')\n",
    "    #     plt.axhline(y=0.5*100, color='black')\n",
    "    #     # if HYP['log']:\n",
    "    #     #     plt.axhline(y=np.expm1(np.mean(label_true)), color='red')\n",
    "    #     # else:\n",
    "    #     #     plt.axhline(y=np.mean(label_true), color='red')\n",
    "    #     # ax_twin = plt.twinx()\n",
    "    #     # if HYP['log']:\n",
    "    #     #     ax_twin.plot(np.expm1(np.array(label_true)), alpha=0.5)\n",
    "    #     # else:\n",
    "    #     #     ax_twin.plot(np.array(label_true), alpha=0.5)\n",
    "    # plt.show()\n",
    "    return vali_f1"
   ],
   "metadata": {
    "collapsed": false,
    "pycharm": {
     "name": "#%%\n"
    }
   }
  },
  {
   "cell_type": "code",
   "execution_count": 61,
   "outputs": [
    {
     "name": "stdout",
     "output_type": "stream",
     "text": [
      "################################################################################\n",
      "fold: 0\n",
      "Total Trainable Params: 12233232\n",
      "total_steps:  15703\n",
      "warmup_steps:  1570\n",
      "epoch : 2/30    time : 561s/15707s\n",
      "TRAIN_loss : 8.32907    train_f1 : 0.00002\n",
      "Epoch [1] Train f1_score : [0.00002]         Validation f1_score : [0.00000]\n",
      "epoch : 3/30    time : 557s/15046s\n",
      "TRAIN_loss : 8.22939    train_f1 : 0.00003\n",
      "Epoch [2] Train f1_score : [0.00003]         Validation f1_score : [0.00000]\n",
      "epoch : 4/30    time : 558s/14504s\n",
      "TRAIN_loss : 7.97236    train_f1 : 0.00003\n",
      "Epoch [3] Train f1_score : [0.00003]         Validation f1_score : [0.00000]\n",
      "epoch : 5/30    time : 560s/14011s\n",
      "TRAIN_loss : 7.54943    train_f1 : 0.00008\n",
      "Epoch [4] Train f1_score : [0.00008]         Validation f1_score : [0.00000]\n",
      "epoch : 6/30    time : 555s/13309s\n",
      "TRAIN_loss : 7.03536    train_f1 : 0.00009\n",
      "Epoch [5] Train f1_score : [0.00009]         Validation f1_score : [0.00000]\n",
      "epoch : 7/30    time : 560s/12889s\n",
      "TRAIN_loss : 6.37938    train_f1 : 0.00023\n",
      "Epoch [6] Train f1_score : [0.00023]         Validation f1_score : [0.00000]\n",
      "Model Saved.\n",
      "epoch : 8/30    time : 555s/12218s\n",
      "TRAIN_loss : 5.54772    train_f1 : 0.00047\n",
      "Epoch [7] Train f1_score : [0.00047]         Validation f1_score : [0.00001]\n",
      "Model Saved.\n",
      "epoch : 9/30    time : 560s/11753s\n",
      "TRAIN_loss : 4.48898    train_f1 : 0.00132\n",
      "Epoch [8] Train f1_score : [0.00132]         Validation f1_score : [0.00003]\n",
      "Model Saved.\n",
      "epoch : 10/30    time : 554s/11082s\n",
      "TRAIN_loss : 3.31935    train_f1 : 0.00285\n",
      "Epoch [9] Train f1_score : [0.00285]         Validation f1_score : [0.00013]\n",
      "Model Saved.\n",
      "epoch : 11/30    time : 554s/10519s\n",
      "TRAIN_loss : 2.38653    train_f1 : 0.00495\n",
      "Epoch [10] Train f1_score : [0.00495]         Validation f1_score : [0.00047]\n",
      "Model Saved.\n",
      "epoch : 12/30    time : 558s/10052s\n",
      "TRAIN_loss : 1.78320    train_f1 : 0.00930\n",
      "Epoch [11] Train f1_score : [0.00930]         Validation f1_score : [0.00238]\n",
      "Model Saved.\n",
      "epoch : 13/30    time : 557s/9476s\n",
      "TRAIN_loss : 1.36488    train_f1 : 0.01923\n",
      "Epoch [12] Train f1_score : [0.01923]         Validation f1_score : [0.00633]\n",
      "Model Saved.\n",
      "epoch : 14/30    time : 547s/8757s\n",
      "TRAIN_loss : 1.08242    train_f1 : 0.03579\n",
      "Epoch [13] Train f1_score : [0.03579]         Validation f1_score : [0.01180]\n",
      "Model Saved.\n",
      "epoch : 15/30    time : 548s/8222s\n",
      "TRAIN_loss : 0.87332    train_f1 : 0.06630\n",
      "Epoch [14] Train f1_score : [0.06630]         Validation f1_score : [0.01667]\n",
      "Model Saved.\n",
      "epoch : 16/30    time : 547s/7664s\n",
      "TRAIN_loss : 0.71837    train_f1 : 0.13480\n",
      "Epoch [15] Train f1_score : [0.13480]         Validation f1_score : [0.02014]\n",
      "Model Saved.\n",
      "epoch : 17/30    time : 546s/7098s\n",
      "TRAIN_loss : 0.62556    train_f1 : 0.16552\n",
      "Epoch [16] Train f1_score : [0.16552]         Validation f1_score : [0.02180]\n",
      "Model Saved.\n",
      "epoch : 18/30    time : 546s/6556s\n",
      "TRAIN_loss : 0.54660    train_f1 : 0.34096\n",
      "Epoch [17] Train f1_score : [0.34096]         Validation f1_score : [0.02296]\n",
      "Model Saved.\n",
      "epoch : 19/30    time : 542s/5963s\n",
      "TRAIN_loss : 0.49056    train_f1 : 0.41282\n",
      "Epoch [18] Train f1_score : [0.41282]         Validation f1_score : [0.02467]\n",
      "Model Saved.\n",
      "epoch : 20/30    time : 549s/5492s\n",
      "TRAIN_loss : 0.44143    train_f1 : 0.51699\n",
      "Epoch [19] Train f1_score : [0.51699]         Validation f1_score : [0.02722]\n",
      "Model Saved.\n",
      "epoch : 21/30    time : 546s/4913s\n",
      "TRAIN_loss : 0.40487    train_f1 : 0.52748\n",
      "Epoch [20] Train f1_score : [0.52748]         Validation f1_score : [0.02650]\n",
      "epoch : 22/30    time : 548s/4381s\n",
      "TRAIN_loss : 0.37157    train_f1 : 0.69223\n",
      "Epoch [21] Train f1_score : [0.69223]         Validation f1_score : [0.02870]\n",
      "Model Saved.\n",
      "epoch : 23/30    time : 543s/3804s\n",
      "TRAIN_loss : 0.34744    train_f1 : 0.77525\n",
      "Epoch [22] Train f1_score : [0.77525]         Validation f1_score : [0.03098]\n",
      "Model Saved.\n",
      "epoch : 24/30    time : 543s/3256s\n",
      "TRAIN_loss : 0.32563    train_f1 : 0.87949\n",
      "Epoch [23] Train f1_score : [0.87949]         Validation f1_score : [0.03465]\n",
      "Model Saved.\n",
      "epoch : 25/30    time : 549s/2747s\n",
      "TRAIN_loss : 0.30969    train_f1 : 0.71050\n",
      "Epoch [24] Train f1_score : [0.71050]         Validation f1_score : [0.03302]\n",
      "epoch : 26/30    time : 546s/2184s\n",
      "TRAIN_loss : 0.28812    train_f1 : 0.89693\n",
      "Epoch [25] Train f1_score : [0.89693]         Validation f1_score : [0.03455]\n",
      "epoch : 27/30    time : 547s/1640s\n",
      "TRAIN_loss : 0.28248    train_f1 : 0.89821\n",
      "Epoch [26] Train f1_score : [0.89821]         Validation f1_score : [0.03377]\n",
      "epoch : 28/30    time : 544s/1088s\n",
      "TRAIN_loss : 0.26430    train_f1 : 0.90266\n",
      "Epoch [27] Train f1_score : [0.90266]         Validation f1_score : [0.03731]\n",
      "Model Saved.\n",
      "epoch : 29/30    time : 549s/549s\n",
      "TRAIN_loss : 0.24665    train_f1 : 0.90635\n",
      "Epoch [28] Train f1_score : [0.90635]         Validation f1_score : [0.03759]\n",
      "Model Saved.\n",
      "epoch : 30/30    time : 548s/0s\n",
      "TRAIN_loss : 0.24056    train_f1 : 0.91469\n",
      "Epoch [29] Train f1_score : [0.91469]         Validation f1_score : [0.03989]\n",
      "Model Saved.\n",
      "epoch : 31/30    time : 543s/-543s\n",
      "TRAIN_loss : 0.22236    train_f1 : 0.91632\n",
      "Epoch [30] Train f1_score : [0.91632]         Validation f1_score : [0.04035]\n",
      "Model Saved.\n"
     ]
    },
    {
     "data": {
      "text/plain": "<Figure size 432x288 with 1 Axes>",
      "image/png": "[encoded data removed]"
     },
     "metadata": {
      "needs_background": "light"
     },
     "output_type": "display_data"
    },
    {
     "name": "stdout",
     "output_type": "stream",
     "text": [
      "################################################################################\n",
      "fold: 1\n",
      "Total Trainable Params: 12233232\n",
      "total_steps:  15703\n",
      "warmup_steps:  1570\n",
      "epoch : 2/30    time : 540s/15127s\n",
      "TRAIN_loss : 8.37737    train_f1 : 0.00003\n",
      "Epoch [1] Train f1_score : [0.00003]         Validation f1_score : [0.00000]\n",
      "epoch : 3/30    time : 542s/14636s\n",
      "TRAIN_loss : 8.29802    train_f1 : 0.00002\n",
      "Epoch [2] Train f1_score : [0.00002]         Validation f1_score : [0.00000]\n",
      "epoch : 4/30    time : 546s/14208s\n",
      "TRAIN_loss : 8.03950    train_f1 : 0.00003\n",
      "Epoch [3] Train f1_score : [0.00003]         Validation f1_score : [0.00000]\n",
      "epoch : 5/30    time : 540s/13512s\n",
      "TRAIN_loss : 7.62914    train_f1 : 0.00004\n",
      "Epoch [4] Train f1_score : [0.00004]         Validation f1_score : [0.00000]\n",
      "epoch : 6/30    time : 547s/13137s\n",
      "TRAIN_loss : 7.16351    train_f1 : 0.00007\n",
      "Epoch [5] Train f1_score : [0.00007]         Validation f1_score : [0.00000]\n",
      "epoch : 7/30    time : 543s/12495s\n",
      "TRAIN_loss : 6.56563    train_f1 : 0.00015\n",
      "Epoch [6] Train f1_score : [0.00015]         Validation f1_score : [0.00000]\n",
      "epoch : 8/30    time : 548s/12053s\n",
      "TRAIN_loss : 5.84801    train_f1 : 0.00040\n",
      "Epoch [7] Train f1_score : [0.00040]         Validation f1_score : [0.00002]\n",
      "Model Saved.\n",
      "epoch : 9/30    time : 545s/11448s\n",
      "TRAIN_loss : 4.88255    train_f1 : 0.00115\n",
      "Epoch [8] Train f1_score : [0.00115]         Validation f1_score : [0.00016]\n",
      "Model Saved.\n",
      "epoch : 10/30    time : 547s/10937s\n",
      "TRAIN_loss : 3.80255    train_f1 : 0.00254\n",
      "Epoch [9] Train f1_score : [0.00254]         Validation f1_score : [0.00132]\n",
      "Model Saved.\n",
      "epoch : 11/30    time : 538s/10225s\n",
      "TRAIN_loss : 2.83682    train_f1 : 0.00480\n",
      "Epoch [10] Train f1_score : [0.00480]         Validation f1_score : [0.00416]\n",
      "Model Saved.\n",
      "epoch : 12/30    time : 551s/9924s\n",
      "TRAIN_loss : 2.06407    train_f1 : 0.00851\n",
      "Epoch [11] Train f1_score : [0.00851]         Validation f1_score : [0.00854]\n",
      "Model Saved.\n",
      "epoch : 13/30    time : 543s/9235s\n",
      "TRAIN_loss : 1.51047    train_f1 : 0.01562\n",
      "Epoch [12] Train f1_score : [0.01562]         Validation f1_score : [0.01473]\n",
      "Model Saved.\n",
      "epoch : 14/30    time : 550s/8803s\n",
      "TRAIN_loss : 1.12471    train_f1 : 0.02750\n",
      "Epoch [13] Train f1_score : [0.02750]         Validation f1_score : [0.03356]\n",
      "Model Saved.\n",
      "epoch : 15/30    time : 549s/8237s\n",
      "TRAIN_loss : 0.86713    train_f1 : 0.05027\n",
      "Epoch [14] Train f1_score : [0.05027]         Validation f1_score : [0.06302]\n",
      "Model Saved.\n"
     ]
    },
    {
     "ename": "KeyboardInterrupt",
     "evalue": "",
     "output_type": "error",
     "traceback": [
      "\u001B[1;31m---------------------------------------------------------------------------\u001B[0m",
      "\u001B[1;31mKeyboardInterrupt\u001B[0m                         Traceback (most recent call last)",
      "Input \u001B[1;32mIn [61]\u001B[0m, in \u001B[0;36m<cell line: 4>\u001B[1;34m()\u001B[0m\n\u001B[0;32m     28\u001B[0m \u001B[38;5;28mprint\u001B[39m(\u001B[38;5;124m'\u001B[39m\u001B[38;5;124mwarmup_steps: \u001B[39m\u001B[38;5;124m'\u001B[39m, warmup_steps)\n\u001B[0;32m     29\u001B[0m scheduler \u001B[38;5;241m=\u001B[39m get_cosine_schedule_with_warmup(optimizer, num_warmup_steps\u001B[38;5;241m=\u001B[39mwarmup_steps, num_training_steps\u001B[38;5;241m=\u001B[39mtotal_steps)\n\u001B[1;32m---> 30\u001B[0m \u001B[43mtrain\u001B[49m\u001B[43m(\u001B[49m\u001B[43mmodel\u001B[49m\u001B[43m,\u001B[49m\u001B[43m \u001B[49m\u001B[43moptimizer\u001B[49m\u001B[43m,\u001B[49m\u001B[43m \u001B[49m\u001B[43mtrain_loader\u001B[49m\u001B[43m,\u001B[49m\u001B[43m \u001B[49m\u001B[43mvali_loader\u001B[49m\u001B[43m,\u001B[49m\u001B[43m \u001B[49m\u001B[43mscheduler\u001B[49m\u001B[43m,\u001B[49m\u001B[43m \u001B[49m\u001B[43mdevice\u001B[49m\u001B[43m,\u001B[49m\u001B[43m \u001B[49m\u001B[43mfold\u001B[49m\u001B[43m)\u001B[49m\n",
      "Input \u001B[1;32mIn [59]\u001B[0m, in \u001B[0;36mtrain\u001B[1;34m(model, optimizer, train_loader, vali_loader, scheduler, device, fold)\u001B[0m\n\u001B[0;32m     16\u001B[0m train_pred\u001B[38;5;241m=\u001B[39m[]\n\u001B[0;32m     17\u001B[0m train_label\u001B[38;5;241m=\u001B[39m[]\n\u001B[1;32m---> 19\u001B[0m \u001B[38;5;28;01mfor\u001B[39;00m batch \u001B[38;5;129;01min\u001B[39;00m (train_loader):\n\u001B[0;32m     20\u001B[0m     optimizer\u001B[38;5;241m.\u001B[39mzero_grad()\n\u001B[0;32m     21\u001B[0m     img \u001B[38;5;241m=\u001B[39m torch\u001B[38;5;241m.\u001B[39mtensor(batch[\u001B[38;5;241m0\u001B[39m][\u001B[38;5;124m'\u001B[39m\u001B[38;5;124mimage\u001B[39m\u001B[38;5;124m'\u001B[39m], dtype\u001B[38;5;241m=\u001B[39mtorch\u001B[38;5;241m.\u001B[39mfloat32, device\u001B[38;5;241m=\u001B[39mdevice)\n",
      "File \u001B[1;32m~\\.conda\\envs\\py38\\lib\\site-packages\\torch\\utils\\data\\dataloader.py:652\u001B[0m, in \u001B[0;36m_BaseDataLoaderIter.__next__\u001B[1;34m(self)\u001B[0m\n\u001B[0;32m    649\u001B[0m \u001B[38;5;28;01mif\u001B[39;00m \u001B[38;5;28mself\u001B[39m\u001B[38;5;241m.\u001B[39m_sampler_iter \u001B[38;5;129;01mis\u001B[39;00m \u001B[38;5;28;01mNone\u001B[39;00m:\n\u001B[0;32m    650\u001B[0m     \u001B[38;5;66;03m# TODO(https://github.com/pytorch/pytorch/issues/76750)\u001B[39;00m\n\u001B[0;32m    651\u001B[0m     \u001B[38;5;28mself\u001B[39m\u001B[38;5;241m.\u001B[39m_reset()  \u001B[38;5;66;03m# type: ignore[call-arg]\u001B[39;00m\n\u001B[1;32m--> 652\u001B[0m data \u001B[38;5;241m=\u001B[39m \u001B[38;5;28;43mself\u001B[39;49m\u001B[38;5;241;43m.\u001B[39;49m\u001B[43m_next_data\u001B[49m\u001B[43m(\u001B[49m\u001B[43m)\u001B[49m\n\u001B[0;32m    653\u001B[0m \u001B[38;5;28mself\u001B[39m\u001B[38;5;241m.\u001B[39m_num_yielded \u001B[38;5;241m+\u001B[39m\u001B[38;5;241m=\u001B[39m \u001B[38;5;241m1\u001B[39m\n\u001B[0;32m    654\u001B[0m \u001B[38;5;28;01mif\u001B[39;00m \u001B[38;5;28mself\u001B[39m\u001B[38;5;241m.\u001B[39m_dataset_kind \u001B[38;5;241m==\u001B[39m _DatasetKind\u001B[38;5;241m.\u001B[39mIterable \u001B[38;5;129;01mand\u001B[39;00m \\\n\u001B[0;32m    655\u001B[0m         \u001B[38;5;28mself\u001B[39m\u001B[38;5;241m.\u001B[39m_IterableDataset_len_called \u001B[38;5;129;01mis\u001B[39;00m \u001B[38;5;129;01mnot\u001B[39;00m \u001B[38;5;28;01mNone\u001B[39;00m \u001B[38;5;129;01mand\u001B[39;00m \\\n\u001B[0;32m    656\u001B[0m         \u001B[38;5;28mself\u001B[39m\u001B[38;5;241m.\u001B[39m_num_yielded \u001B[38;5;241m>\u001B[39m \u001B[38;5;28mself\u001B[39m\u001B[38;5;241m.\u001B[39m_IterableDataset_len_called:\n",
      "File \u001B[1;32m~\\.conda\\envs\\py38\\lib\\site-packages\\torch\\utils\\data\\dataloader.py:692\u001B[0m, in \u001B[0;36m_SingleProcessDataLoaderIter._next_data\u001B[1;34m(self)\u001B[0m\n\u001B[0;32m    690\u001B[0m \u001B[38;5;28;01mdef\u001B[39;00m \u001B[38;5;21m_next_data\u001B[39m(\u001B[38;5;28mself\u001B[39m):\n\u001B[0;32m    691\u001B[0m     index \u001B[38;5;241m=\u001B[39m \u001B[38;5;28mself\u001B[39m\u001B[38;5;241m.\u001B[39m_next_index()  \u001B[38;5;66;03m# may raise StopIteration\u001B[39;00m\n\u001B[1;32m--> 692\u001B[0m     data \u001B[38;5;241m=\u001B[39m \u001B[38;5;28;43mself\u001B[39;49m\u001B[38;5;241;43m.\u001B[39;49m\u001B[43m_dataset_fetcher\u001B[49m\u001B[38;5;241;43m.\u001B[39;49m\u001B[43mfetch\u001B[49m\u001B[43m(\u001B[49m\u001B[43mindex\u001B[49m\u001B[43m)\u001B[49m  \u001B[38;5;66;03m# may raise StopIteration\u001B[39;00m\n\u001B[0;32m    693\u001B[0m     \u001B[38;5;28;01mif\u001B[39;00m \u001B[38;5;28mself\u001B[39m\u001B[38;5;241m.\u001B[39m_pin_memory:\n\u001B[0;32m    694\u001B[0m         data \u001B[38;5;241m=\u001B[39m _utils\u001B[38;5;241m.\u001B[39mpin_memory\u001B[38;5;241m.\u001B[39mpin_memory(data, \u001B[38;5;28mself\u001B[39m\u001B[38;5;241m.\u001B[39m_pin_memory_device)\n",
      "File \u001B[1;32m~\\.conda\\envs\\py38\\lib\\site-packages\\torch\\utils\\data\\_utils\\fetch.py:49\u001B[0m, in \u001B[0;36m_MapDatasetFetcher.fetch\u001B[1;34m(self, possibly_batched_index)\u001B[0m\n\u001B[0;32m     47\u001B[0m \u001B[38;5;28;01mdef\u001B[39;00m \u001B[38;5;21mfetch\u001B[39m(\u001B[38;5;28mself\u001B[39m, possibly_batched_index):\n\u001B[0;32m     48\u001B[0m     \u001B[38;5;28;01mif\u001B[39;00m \u001B[38;5;28mself\u001B[39m\u001B[38;5;241m.\u001B[39mauto_collation:\n\u001B[1;32m---> 49\u001B[0m         data \u001B[38;5;241m=\u001B[39m [\u001B[38;5;28mself\u001B[39m\u001B[38;5;241m.\u001B[39mdataset[idx] \u001B[38;5;28;01mfor\u001B[39;00m idx \u001B[38;5;129;01min\u001B[39;00m possibly_batched_index]\n\u001B[0;32m     50\u001B[0m     \u001B[38;5;28;01melse\u001B[39;00m:\n\u001B[0;32m     51\u001B[0m         data \u001B[38;5;241m=\u001B[39m \u001B[38;5;28mself\u001B[39m\u001B[38;5;241m.\u001B[39mdataset[possibly_batched_index]\n",
      "File \u001B[1;32m~\\.conda\\envs\\py38\\lib\\site-packages\\torch\\utils\\data\\_utils\\fetch.py:49\u001B[0m, in \u001B[0;36m<listcomp>\u001B[1;34m(.0)\u001B[0m\n\u001B[0;32m     47\u001B[0m \u001B[38;5;28;01mdef\u001B[39;00m \u001B[38;5;21mfetch\u001B[39m(\u001B[38;5;28mself\u001B[39m, possibly_batched_index):\n\u001B[0;32m     48\u001B[0m     \u001B[38;5;28;01mif\u001B[39;00m \u001B[38;5;28mself\u001B[39m\u001B[38;5;241m.\u001B[39mauto_collation:\n\u001B[1;32m---> 49\u001B[0m         data \u001B[38;5;241m=\u001B[39m [\u001B[38;5;28;43mself\u001B[39;49m\u001B[38;5;241;43m.\u001B[39;49m\u001B[43mdataset\u001B[49m\u001B[43m[\u001B[49m\u001B[43midx\u001B[49m\u001B[43m]\u001B[49m \u001B[38;5;28;01mfor\u001B[39;00m idx \u001B[38;5;129;01min\u001B[39;00m possibly_batched_index]\n\u001B[0;32m     50\u001B[0m     \u001B[38;5;28;01melse\u001B[39;00m:\n\u001B[0;32m     51\u001B[0m         data \u001B[38;5;241m=\u001B[39m \u001B[38;5;28mself\u001B[39m\u001B[38;5;241m.\u001B[39mdataset[possibly_batched_index]\n",
      "Input \u001B[1;32mIn [13]\u001B[0m, in \u001B[0;36mCustom_dataset.__getitem__\u001B[1;34m(self, idx)\u001B[0m\n\u001B[0;32m     16\u001B[0m img \u001B[38;5;241m=\u001B[39m \u001B[38;5;28mself\u001B[39m\u001B[38;5;241m.\u001B[39mimg_paths[idx]\n\u001B[0;32m     17\u001B[0m \u001B[38;5;28;01mif\u001B[39;00m \u001B[38;5;28mself\u001B[39m\u001B[38;5;241m.\u001B[39mmode\u001B[38;5;241m==\u001B[39m\u001B[38;5;124m'\u001B[39m\u001B[38;5;124mtrain\u001B[39m\u001B[38;5;124m'\u001B[39m:\n\u001B[1;32m---> 18\u001B[0m     img \u001B[38;5;241m=\u001B[39m \u001B[43mtrain_transform\u001B[49m\u001B[43m(\u001B[49m\u001B[43mimage\u001B[49m\u001B[38;5;241;43m=\u001B[39;49m\u001B[43mimg\u001B[49m\u001B[43m)\u001B[49m\n\u001B[0;32m     20\u001B[0m \u001B[38;5;28;01mif\u001B[39;00m \u001B[38;5;28mself\u001B[39m\u001B[38;5;241m.\u001B[39mmode\u001B[38;5;241m==\u001B[39m\u001B[38;5;124m'\u001B[39m\u001B[38;5;124mtest\u001B[39m\u001B[38;5;124m'\u001B[39m:\n\u001B[0;32m     21\u001B[0m     img \u001B[38;5;241m=\u001B[39m test_transform(image\u001B[38;5;241m=\u001B[39mimg)\n",
      "File \u001B[1;32m~\\.conda\\envs\\py38\\lib\\site-packages\\albumentations\\core\\composition.py:205\u001B[0m, in \u001B[0;36mCompose.__call__\u001B[1;34m(self, force_apply, *args, **data)\u001B[0m\n\u001B[0;32m    202\u001B[0m     p\u001B[38;5;241m.\u001B[39mpreprocess(data)\n\u001B[0;32m    204\u001B[0m \u001B[38;5;28;01mfor\u001B[39;00m idx, t \u001B[38;5;129;01min\u001B[39;00m \u001B[38;5;28menumerate\u001B[39m(transforms):\n\u001B[1;32m--> 205\u001B[0m     data \u001B[38;5;241m=\u001B[39m \u001B[43mt\u001B[49m\u001B[43m(\u001B[49m\u001B[43mforce_apply\u001B[49m\u001B[38;5;241;43m=\u001B[39;49m\u001B[43mforce_apply\u001B[49m\u001B[43m,\u001B[49m\u001B[43m \u001B[49m\u001B[38;5;241;43m*\u001B[39;49m\u001B[38;5;241;43m*\u001B[39;49m\u001B[43mdata\u001B[49m\u001B[43m)\u001B[49m\n\u001B[0;32m    207\u001B[0m     \u001B[38;5;28;01mif\u001B[39;00m check_each_transform:\n\u001B[0;32m    208\u001B[0m         data \u001B[38;5;241m=\u001B[39m \u001B[38;5;28mself\u001B[39m\u001B[38;5;241m.\u001B[39m_check_data_post_transform(data)\n",
      "File \u001B[1;32m~\\.conda\\envs\\py38\\lib\\site-packages\\albumentations\\core\\composition.py:309\u001B[0m, in \u001B[0;36mOneOf.__call__\u001B[1;34m(self, force_apply, *args, **data)\u001B[0m\n\u001B[0;32m    307\u001B[0m     idx: \u001B[38;5;28mint\u001B[39m \u001B[38;5;241m=\u001B[39m random_utils\u001B[38;5;241m.\u001B[39mchoice(\u001B[38;5;28mlen\u001B[39m(\u001B[38;5;28mself\u001B[39m\u001B[38;5;241m.\u001B[39mtransforms), p\u001B[38;5;241m=\u001B[39m\u001B[38;5;28mself\u001B[39m\u001B[38;5;241m.\u001B[39mtransforms_ps)\n\u001B[0;32m    308\u001B[0m     t \u001B[38;5;241m=\u001B[39m \u001B[38;5;28mself\u001B[39m\u001B[38;5;241m.\u001B[39mtransforms[idx]\n\u001B[1;32m--> 309\u001B[0m     data \u001B[38;5;241m=\u001B[39m \u001B[43mt\u001B[49m\u001B[43m(\u001B[49m\u001B[43mforce_apply\u001B[49m\u001B[38;5;241;43m=\u001B[39;49m\u001B[38;5;28;43;01mTrue\u001B[39;49;00m\u001B[43m,\u001B[49m\u001B[43m \u001B[49m\u001B[38;5;241;43m*\u001B[39;49m\u001B[38;5;241;43m*\u001B[39;49m\u001B[43mdata\u001B[49m\u001B[43m)\u001B[49m\n\u001B[0;32m    310\u001B[0m \u001B[38;5;28;01mreturn\u001B[39;00m data\n",
      "File \u001B[1;32m~\\.conda\\envs\\py38\\lib\\site-packages\\albumentations\\core\\transforms_interface.py:95\u001B[0m, in \u001B[0;36mBasicTransform.__call__\u001B[1;34m(self, force_apply, *args, **kwargs)\u001B[0m\n\u001B[0;32m     90\u001B[0m             warn(\n\u001B[0;32m     91\u001B[0m                 \u001B[38;5;28mself\u001B[39m\u001B[38;5;241m.\u001B[39mget_class_fullname() \u001B[38;5;241m+\u001B[39m \u001B[38;5;124m\"\u001B[39m\u001B[38;5;124m could work incorrectly in ReplayMode for other input data\u001B[39m\u001B[38;5;124m\"\u001B[39m\n\u001B[0;32m     92\u001B[0m                 \u001B[38;5;124m\"\u001B[39m\u001B[38;5;124m because its\u001B[39m\u001B[38;5;124m'\u001B[39m\u001B[38;5;124m params depend on targets.\u001B[39m\u001B[38;5;124m\"\u001B[39m\n\u001B[0;32m     93\u001B[0m             )\n\u001B[0;32m     94\u001B[0m         kwargs[\u001B[38;5;28mself\u001B[39m\u001B[38;5;241m.\u001B[39msave_key][\u001B[38;5;28mid\u001B[39m(\u001B[38;5;28mself\u001B[39m)] \u001B[38;5;241m=\u001B[39m deepcopy(params)\n\u001B[1;32m---> 95\u001B[0m     \u001B[38;5;28;01mreturn\u001B[39;00m \u001B[38;5;28;43mself\u001B[39;49m\u001B[38;5;241;43m.\u001B[39;49m\u001B[43mapply_with_params\u001B[49m\u001B[43m(\u001B[49m\u001B[43mparams\u001B[49m\u001B[43m,\u001B[49m\u001B[43m \u001B[49m\u001B[38;5;241;43m*\u001B[39;49m\u001B[38;5;241;43m*\u001B[39;49m\u001B[43mkwargs\u001B[49m\u001B[43m)\u001B[49m\n\u001B[0;32m     97\u001B[0m \u001B[38;5;28;01mreturn\u001B[39;00m kwargs\n",
      "File \u001B[1;32m~\\.conda\\envs\\py38\\lib\\site-packages\\albumentations\\core\\transforms_interface.py:110\u001B[0m, in \u001B[0;36mBasicTransform.apply_with_params\u001B[1;34m(self, params, force_apply, **kwargs)\u001B[0m\n\u001B[0;32m    108\u001B[0m     target_function \u001B[38;5;241m=\u001B[39m \u001B[38;5;28mself\u001B[39m\u001B[38;5;241m.\u001B[39m_get_target_function(key)\n\u001B[0;32m    109\u001B[0m     target_dependencies \u001B[38;5;241m=\u001B[39m {k: kwargs[k] \u001B[38;5;28;01mfor\u001B[39;00m k \u001B[38;5;129;01min\u001B[39;00m \u001B[38;5;28mself\u001B[39m\u001B[38;5;241m.\u001B[39mtarget_dependence\u001B[38;5;241m.\u001B[39mget(key, [])}\n\u001B[1;32m--> 110\u001B[0m     res[key] \u001B[38;5;241m=\u001B[39m \u001B[43mtarget_function\u001B[49m\u001B[43m(\u001B[49m\u001B[43marg\u001B[49m\u001B[43m,\u001B[49m\u001B[43m \u001B[49m\u001B[38;5;241;43m*\u001B[39;49m\u001B[38;5;241;43m*\u001B[39;49m\u001B[38;5;28;43mdict\u001B[39;49m\u001B[43m(\u001B[49m\u001B[43mparams\u001B[49m\u001B[43m,\u001B[49m\u001B[43m \u001B[49m\u001B[38;5;241;43m*\u001B[39;49m\u001B[38;5;241;43m*\u001B[39;49m\u001B[43mtarget_dependencies\u001B[49m\u001B[43m)\u001B[49m\u001B[43m)\u001B[49m\n\u001B[0;32m    111\u001B[0m \u001B[38;5;28;01melse\u001B[39;00m:\n\u001B[0;32m    112\u001B[0m     res[key] \u001B[38;5;241m=\u001B[39m \u001B[38;5;28;01mNone\u001B[39;00m\n",
      "File \u001B[1;32m~\\.conda\\envs\\py38\\lib\\site-packages\\albumentations\\augmentations\\geometric\\transforms.py:173\u001B[0m, in \u001B[0;36mElasticTransform.apply\u001B[1;34m(self, img, random_state, interpolation, **params)\u001B[0m\n\u001B[0;32m    172\u001B[0m \u001B[38;5;28;01mdef\u001B[39;00m \u001B[38;5;21mapply\u001B[39m(\u001B[38;5;28mself\u001B[39m, img, random_state\u001B[38;5;241m=\u001B[39m\u001B[38;5;28;01mNone\u001B[39;00m, interpolation\u001B[38;5;241m=\u001B[39mcv2\u001B[38;5;241m.\u001B[39mINTER_LINEAR, \u001B[38;5;241m*\u001B[39m\u001B[38;5;241m*\u001B[39mparams):\n\u001B[1;32m--> 173\u001B[0m     \u001B[38;5;28;01mreturn\u001B[39;00m \u001B[43mF\u001B[49m\u001B[38;5;241;43m.\u001B[39;49m\u001B[43melastic_transform\u001B[49m\u001B[43m(\u001B[49m\n\u001B[0;32m    174\u001B[0m \u001B[43m        \u001B[49m\u001B[43mimg\u001B[49m\u001B[43m,\u001B[49m\n\u001B[0;32m    175\u001B[0m \u001B[43m        \u001B[49m\u001B[38;5;28;43mself\u001B[39;49m\u001B[38;5;241;43m.\u001B[39;49m\u001B[43malpha\u001B[49m\u001B[43m,\u001B[49m\n\u001B[0;32m    176\u001B[0m \u001B[43m        \u001B[49m\u001B[38;5;28;43mself\u001B[39;49m\u001B[38;5;241;43m.\u001B[39;49m\u001B[43msigma\u001B[49m\u001B[43m,\u001B[49m\n\u001B[0;32m    177\u001B[0m \u001B[43m        \u001B[49m\u001B[38;5;28;43mself\u001B[39;49m\u001B[38;5;241;43m.\u001B[39;49m\u001B[43malpha_affine\u001B[49m\u001B[43m,\u001B[49m\n\u001B[0;32m    178\u001B[0m \u001B[43m        \u001B[49m\u001B[43minterpolation\u001B[49m\u001B[43m,\u001B[49m\n\u001B[0;32m    179\u001B[0m \u001B[43m        \u001B[49m\u001B[38;5;28;43mself\u001B[39;49m\u001B[38;5;241;43m.\u001B[39;49m\u001B[43mborder_mode\u001B[49m\u001B[43m,\u001B[49m\n\u001B[0;32m    180\u001B[0m \u001B[43m        \u001B[49m\u001B[38;5;28;43mself\u001B[39;49m\u001B[38;5;241;43m.\u001B[39;49m\u001B[43mvalue\u001B[49m\u001B[43m,\u001B[49m\n\u001B[0;32m    181\u001B[0m \u001B[43m        \u001B[49m\u001B[43mnp\u001B[49m\u001B[38;5;241;43m.\u001B[39;49m\u001B[43mrandom\u001B[49m\u001B[38;5;241;43m.\u001B[39;49m\u001B[43mRandomState\u001B[49m\u001B[43m(\u001B[49m\u001B[43mrandom_state\u001B[49m\u001B[43m)\u001B[49m\u001B[43m,\u001B[49m\n\u001B[0;32m    182\u001B[0m \u001B[43m        \u001B[49m\u001B[38;5;28;43mself\u001B[39;49m\u001B[38;5;241;43m.\u001B[39;49m\u001B[43mapproximate\u001B[49m\u001B[43m,\u001B[49m\n\u001B[0;32m    183\u001B[0m \u001B[43m        \u001B[49m\u001B[38;5;28;43mself\u001B[39;49m\u001B[38;5;241;43m.\u001B[39;49m\u001B[43msame_dxdy\u001B[49m\u001B[43m,\u001B[49m\n\u001B[0;32m    184\u001B[0m \u001B[43m    \u001B[49m\u001B[43m)\u001B[49m\n",
      "File \u001B[1;32m~\\.conda\\envs\\py38\\lib\\site-packages\\albumentations\\augmentations\\functional.py:157\u001B[0m, in \u001B[0;36mpreserve_shape.<locals>.wrapped_function\u001B[1;34m(img, *args, **kwargs)\u001B[0m\n\u001B[0;32m    154\u001B[0m \u001B[38;5;129m@wraps\u001B[39m(func)\n\u001B[0;32m    155\u001B[0m \u001B[38;5;28;01mdef\u001B[39;00m \u001B[38;5;21mwrapped_function\u001B[39m(img, \u001B[38;5;241m*\u001B[39margs, \u001B[38;5;241m*\u001B[39m\u001B[38;5;241m*\u001B[39mkwargs):\n\u001B[0;32m    156\u001B[0m     shape \u001B[38;5;241m=\u001B[39m img\u001B[38;5;241m.\u001B[39mshape\n\u001B[1;32m--> 157\u001B[0m     result \u001B[38;5;241m=\u001B[39m \u001B[43mfunc\u001B[49m\u001B[43m(\u001B[49m\u001B[43mimg\u001B[49m\u001B[43m,\u001B[49m\u001B[43m \u001B[49m\u001B[38;5;241;43m*\u001B[39;49m\u001B[43margs\u001B[49m\u001B[43m,\u001B[49m\u001B[43m \u001B[49m\u001B[38;5;241;43m*\u001B[39;49m\u001B[38;5;241;43m*\u001B[39;49m\u001B[43mkwargs\u001B[49m\u001B[43m)\u001B[49m\n\u001B[0;32m    158\u001B[0m     result \u001B[38;5;241m=\u001B[39m result\u001B[38;5;241m.\u001B[39mreshape(shape)\n\u001B[0;32m    159\u001B[0m     \u001B[38;5;28;01mreturn\u001B[39;00m result\n",
      "File \u001B[1;32m~\\.conda\\envs\\py38\\lib\\site-packages\\albumentations\\augmentations\\geometric\\functional.py:301\u001B[0m, in \u001B[0;36melastic_transform\u001B[1;34m(img, alpha, sigma, alpha_affine, interpolation, border_mode, value, random_state, approximate, same_dxdy)\u001B[0m\n\u001B[0;32m    298\u001B[0m         dy \u001B[38;5;241m=\u001B[39m dx\n\u001B[0;32m    299\u001B[0m     \u001B[38;5;28;01melse\u001B[39;00m:\n\u001B[0;32m    300\u001B[0m         dy \u001B[38;5;241m=\u001B[39m np\u001B[38;5;241m.\u001B[39mfloat32(\n\u001B[1;32m--> 301\u001B[0m             \u001B[43mgaussian_filter\u001B[49m\u001B[43m(\u001B[49m\u001B[43m(\u001B[49m\u001B[43mrandom_utils\u001B[49m\u001B[38;5;241;43m.\u001B[39;49m\u001B[43mrand\u001B[49m\u001B[43m(\u001B[49m\u001B[43mheight\u001B[49m\u001B[43m,\u001B[49m\u001B[43m \u001B[49m\u001B[43mwidth\u001B[49m\u001B[43m,\u001B[49m\u001B[43m \u001B[49m\u001B[43mrandom_state\u001B[49m\u001B[38;5;241;43m=\u001B[39;49m\u001B[43mrandom_state\u001B[49m\u001B[43m)\u001B[49m\u001B[43m \u001B[49m\u001B[38;5;241;43m*\u001B[39;49m\u001B[43m \u001B[49m\u001B[38;5;241;43m2\u001B[39;49m\u001B[43m \u001B[49m\u001B[38;5;241;43m-\u001B[39;49m\u001B[43m \u001B[49m\u001B[38;5;241;43m1\u001B[39;49m\u001B[43m)\u001B[49m\u001B[43m,\u001B[49m\u001B[43m \u001B[49m\u001B[43msigma\u001B[49m\u001B[43m)\u001B[49m \u001B[38;5;241m*\u001B[39m alpha\n\u001B[0;32m    302\u001B[0m         )\n\u001B[0;32m    304\u001B[0m x, y \u001B[38;5;241m=\u001B[39m np\u001B[38;5;241m.\u001B[39mmeshgrid(np\u001B[38;5;241m.\u001B[39marange(width), np\u001B[38;5;241m.\u001B[39marange(height))\n\u001B[0;32m    306\u001B[0m map_x \u001B[38;5;241m=\u001B[39m np\u001B[38;5;241m.\u001B[39mfloat32(x \u001B[38;5;241m+\u001B[39m dx)\n",
      "File \u001B[1;32m~\\.conda\\envs\\py38\\lib\\site-packages\\scipy\\ndimage\\_filters.py:342\u001B[0m, in \u001B[0;36mgaussian_filter\u001B[1;34m(input, sigma, order, output, mode, cval, truncate)\u001B[0m\n\u001B[0;32m    340\u001B[0m \u001B[38;5;28;01mif\u001B[39;00m \u001B[38;5;28mlen\u001B[39m(axes) \u001B[38;5;241m>\u001B[39m \u001B[38;5;241m0\u001B[39m:\n\u001B[0;32m    341\u001B[0m     \u001B[38;5;28;01mfor\u001B[39;00m axis, sigma, order, mode \u001B[38;5;129;01min\u001B[39;00m axes:\n\u001B[1;32m--> 342\u001B[0m         \u001B[43mgaussian_filter1d\u001B[49m\u001B[43m(\u001B[49m\u001B[38;5;28;43minput\u001B[39;49m\u001B[43m,\u001B[49m\u001B[43m \u001B[49m\u001B[43msigma\u001B[49m\u001B[43m,\u001B[49m\u001B[43m \u001B[49m\u001B[43maxis\u001B[49m\u001B[43m,\u001B[49m\u001B[43m \u001B[49m\u001B[43morder\u001B[49m\u001B[43m,\u001B[49m\u001B[43m \u001B[49m\u001B[43moutput\u001B[49m\u001B[43m,\u001B[49m\n\u001B[0;32m    343\u001B[0m \u001B[43m                          \u001B[49m\u001B[43mmode\u001B[49m\u001B[43m,\u001B[49m\u001B[43m \u001B[49m\u001B[43mcval\u001B[49m\u001B[43m,\u001B[49m\u001B[43m \u001B[49m\u001B[43mtruncate\u001B[49m\u001B[43m)\u001B[49m\n\u001B[0;32m    344\u001B[0m         \u001B[38;5;28minput\u001B[39m \u001B[38;5;241m=\u001B[39m output\n\u001B[0;32m    345\u001B[0m \u001B[38;5;28;01melse\u001B[39;00m:\n",
      "File \u001B[1;32m~\\.conda\\envs\\py38\\lib\\site-packages\\scipy\\ndimage\\_filters.py:261\u001B[0m, in \u001B[0;36mgaussian_filter1d\u001B[1;34m(input, sigma, axis, order, output, mode, cval, truncate)\u001B[0m\n\u001B[0;32m    259\u001B[0m \u001B[38;5;66;03m# Since we are calling correlate, not convolve, revert the kernel\u001B[39;00m\n\u001B[0;32m    260\u001B[0m weights \u001B[38;5;241m=\u001B[39m _gaussian_kernel1d(sigma, order, lw)[::\u001B[38;5;241m-\u001B[39m\u001B[38;5;241m1\u001B[39m]\n\u001B[1;32m--> 261\u001B[0m \u001B[38;5;28;01mreturn\u001B[39;00m \u001B[43mcorrelate1d\u001B[49m\u001B[43m(\u001B[49m\u001B[38;5;28;43minput\u001B[39;49m\u001B[43m,\u001B[49m\u001B[43m \u001B[49m\u001B[43mweights\u001B[49m\u001B[43m,\u001B[49m\u001B[43m \u001B[49m\u001B[43maxis\u001B[49m\u001B[43m,\u001B[49m\u001B[43m \u001B[49m\u001B[43moutput\u001B[49m\u001B[43m,\u001B[49m\u001B[43m \u001B[49m\u001B[43mmode\u001B[49m\u001B[43m,\u001B[49m\u001B[43m \u001B[49m\u001B[43mcval\u001B[49m\u001B[43m,\u001B[49m\u001B[43m \u001B[49m\u001B[38;5;241;43m0\u001B[39;49m\u001B[43m)\u001B[49m\n",
      "File \u001B[1;32m~\\.conda\\envs\\py38\\lib\\site-packages\\scipy\\ndimage\\_filters.py:133\u001B[0m, in \u001B[0;36mcorrelate1d\u001B[1;34m(input, weights, axis, output, mode, cval, origin)\u001B[0m\n\u001B[0;32m    129\u001B[0m     \u001B[38;5;28;01mraise\u001B[39;00m \u001B[38;5;167;01mValueError\u001B[39;00m(\u001B[38;5;124m'\u001B[39m\u001B[38;5;124mInvalid origin; origin must satisfy \u001B[39m\u001B[38;5;124m'\u001B[39m\n\u001B[0;32m    130\u001B[0m                      \u001B[38;5;124m'\u001B[39m\u001B[38;5;124m-(len(weights) // 2) <= origin <= \u001B[39m\u001B[38;5;124m'\u001B[39m\n\u001B[0;32m    131\u001B[0m                      \u001B[38;5;124m'\u001B[39m\u001B[38;5;124m(len(weights)-1) // 2\u001B[39m\u001B[38;5;124m'\u001B[39m)\n\u001B[0;32m    132\u001B[0m mode \u001B[38;5;241m=\u001B[39m _ni_support\u001B[38;5;241m.\u001B[39m_extend_mode_to_code(mode)\n\u001B[1;32m--> 133\u001B[0m \u001B[43m_nd_image\u001B[49m\u001B[38;5;241;43m.\u001B[39;49m\u001B[43mcorrelate1d\u001B[49m\u001B[43m(\u001B[49m\u001B[38;5;28;43minput\u001B[39;49m\u001B[43m,\u001B[49m\u001B[43m \u001B[49m\u001B[43mweights\u001B[49m\u001B[43m,\u001B[49m\u001B[43m \u001B[49m\u001B[43maxis\u001B[49m\u001B[43m,\u001B[49m\u001B[43m \u001B[49m\u001B[43moutput\u001B[49m\u001B[43m,\u001B[49m\u001B[43m \u001B[49m\u001B[43mmode\u001B[49m\u001B[43m,\u001B[49m\u001B[43m \u001B[49m\u001B[43mcval\u001B[49m\u001B[43m,\u001B[49m\n\u001B[0;32m    134\u001B[0m \u001B[43m                      \u001B[49m\u001B[43morigin\u001B[49m\u001B[43m)\u001B[49m\n\u001B[0;32m    135\u001B[0m \u001B[38;5;28;01mreturn\u001B[39;00m output\n",
      "\u001B[1;31mKeyboardInterrupt\u001B[0m: "
     ]
    }
   ],
   "source": [
    "list_idx = list(np.arange(0,len(train_imgs)))\n",
    "\n",
    "kf = KFold(n_splits=5)\n",
    "for fold, (train_idx, valid_idx) in enumerate(kf.split(list_idx)):\n",
    "    print(\"#\"*80)\n",
    "    print(\"fold: {}\".format(fold))\n",
    "    train_img_list = [train_imgs[i] for i in train_idx]\n",
    "    train_label = [train_labels[i] for i in train_idx]\n",
    "\n",
    "    vali_img_list = [train_imgs[i] for i in valid_idx]\n",
    "    vali_label = [train_labels[i] for i in valid_idx]\n",
    "\n",
    "    # Get Dataloader\n",
    "    train_dataset = Custom_dataset(train_img_list, train_label, mode='train',)\n",
    "    train_loader = DataLoader(train_dataset, batch_size = HYP['BATCH_SIZE'], shuffle=False, num_workers=0)\n",
    "\n",
    "    vali_dataset = Custom_dataset(vali_img_list, vali_label, mode='test')\n",
    "    vali_loader = DataLoader(vali_dataset, batch_size = HYP['BATCH_SIZE'], shuffle=False, num_workers=0)\n",
    "\n",
    "    model = Network_b3().to(device)\n",
    "\n",
    "    optimizer = torch.optim.Adam(model.parameters(), lr=HYP['LEARNING_RATE'])\n",
    "\n",
    "    total_steps = int(len(train_dataset)*HYP['EPOCHS']/(HYP['BATCH_SIZE']))\n",
    "    warmup_ratio = 0.1\n",
    "    warmup_steps = int(total_steps * warmup_ratio)\n",
    "    print('total_steps: ', total_steps)\n",
    "    print('warmup_steps: ', warmup_steps)\n",
    "    scheduler = get_cosine_schedule_with_warmup(optimizer, num_warmup_steps=warmup_steps, num_training_steps=total_steps)\n",
    "    train(model, optimizer, train_loader, vali_loader, scheduler, device, fold)"
   ],
   "metadata": {
    "collapsed": false,
    "pycharm": {
     "name": "#%%\n"
    }
   }
  },
  {
   "cell_type": "code",
   "execution_count": null,
   "outputs": [],
   "source": [
    "def predict(model, test_loader, device):\n",
    "    model.eval()\n",
    "    test_loss = []\n",
    "    model_pred = []\n",
    "    test_pred=[]\n",
    "    test_label=[]\n",
    "\n",
    "    with torch.no_grad():\n",
    "        for batch in (test_loader):\n",
    "            img = torch.tensor(batch[0]['image'], dtype=torch.float32, device=device)\n",
    "            label = torch.tensor(batch[1], dtype=torch.long, device=device)\n",
    "\n",
    "            pred = model(img)\n",
    "            pred = pred.squeeze(1).detach().cpu()\n",
    "            # loss = criterion(pred, label)\n",
    "            #\n",
    "            # test_loss.append(loss.item())\n",
    "\n",
    "            pred = pred.squeeze(1).detach().cpu()\n",
    "            label = label.detach().cpu()\n",
    "\n",
    "            test_label.extend(label.tolist())\n",
    "            test_pred.extend(pred.tolist())\n",
    "\n",
    "            model_pred.extend(pred.tolist())\n",
    "\n",
    "        test_f1 = score_function(test_label, test_pred)\n",
    "        print(f'test_f1 [{test_f1}])\n",
    "\n",
    "    return model_pred\n",
    "\n",
    "checkpoint = torch.load('./saved/res50_fold{}.pth'.format(fold))\n",
    "model = Network_b3().to(device)\n",
    "model.load_state_dict(checkpoint)\n",
    "\n",
    "preds = predict(model, test_loader, device)"
   ],
   "metadata": {
    "collapsed": false,
    "pycharm": {
     "name": "#%%\n"
    }
   }
  }
 ],
 "metadata": {
  "kernelspec": {
   "display_name": "Python 3",
   "language": "python",
   "name": "python3"
  },
  "language_info": {
   "codemirror_mode": {
    "name": "ipython",
    "version": 2
   },
   "file_extension": ".py",
   "mimetype": "text/x-python",
   "name": "python",
   "nbconvert_exporter": "python",
   "pygments_lexer": "ipython2",
   "version": "2.7.6"
  }
 },
 "nbformat": 4,
 "nbformat_minor": 0
}