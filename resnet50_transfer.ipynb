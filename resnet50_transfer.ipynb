{
 "cells": [
  {
   "cell_type": "code",
   "execution_count": 3,
   "outputs": [],
   "source": [
    "import torch\n",
    "import random\n",
    "import numpy as np\n",
    "import pandas as pd\n",
    "from glob import glob\n",
    "import os\n",
    "import cv2\n",
    "import gc\n",
    "\n",
    "from sklearn.model_selection import KFold\n",
    "from torchvision.models import ResNet50_Weights, EfficientNet_B3_Weights\n",
    "from tqdm.auto import tqdm\n",
    "import torchvision.models as models\n",
    "from matplotlib import pyplot as plt\n",
    "from transformers import get_cosine_schedule_with_warmup\n",
    "\n",
    "device = torch.device('cuda') if torch.cuda.is_available() else torch.device('cpu') #GPU 할당"
   ],
   "metadata": {
    "collapsed": false,
    "pycharm": {
     "name": "#%%\n"
    }
   }
  },
  {
   "cell_type": "markdown",
   "source": [
    "## 데이터 로드"
   ],
   "metadata": {
    "collapsed": false,
    "pycharm": {
     "name": "#%% md\n"
    }
   }
  },
  {
   "cell_type": "code",
   "execution_count": 4,
   "outputs": [],
   "source": [
    "os.chdir(\"C:/deep/Animals-10-classification/\")\n",
    "\n",
    "classes = [\"butterfly\", \"cat\", \"chicken\", \"cow\", \"dog\", \"elephant\", \"horse\", \"sheep\", \"spider\", \"squirrel\"]"
   ],
   "metadata": {
    "collapsed": false,
    "pycharm": {
     "name": "#%%\n"
    }
   }
  },
  {
   "cell_type": "code",
   "execution_count": 5,
   "outputs": [],
   "source": [
    "train_img = []\n",
    "test_img = []"
   ],
   "metadata": {
    "collapsed": false,
    "pycharm": {
     "name": "#%%\n"
    }
   }
  },
  {
   "cell_type": "code",
   "execution_count": 6,
   "outputs": [],
   "source": [
    "for i in classes:\n",
    "    train_jpg = sorted(glob('train_img/' + f'{i}' + '/' + f'{i}_*.jpg'))\n",
    "    train_img.extend(train_jpg)\n",
    "\n",
    "    test_jpg = sorted(glob('test_img/' + f'{i}' + '/' + f'{i}_*.jpg'))\n",
    "    test_img.extend(test_jpg)"
   ],
   "metadata": {
    "collapsed": false,
    "pycharm": {
     "name": "#%%\n"
    }
   }
  },
  {
   "cell_type": "code",
   "execution_count": 7,
   "outputs": [
    {
     "data": {
      "text/plain": "  0%|          | 0/20938 [00:00<?, ?it/s]",
      "application/vnd.jupyter.widget-view+json": {
       "version_major": 2,
       "version_minor": 0,
       "model_id": "7c3511cd981949bdae40e918e8e49599"
      }
     },
     "metadata": {},
     "output_type": "display_data"
    },
    {
     "data": {
      "text/plain": "  0%|          | 0/5241 [00:00<?, ?it/s]",
      "application/vnd.jupyter.widget-view+json": {
       "version_major": 2,
       "version_minor": 0,
       "model_id": "232e4287955a40ad83ca770d48e506e3"
      }
     },
     "metadata": {},
     "output_type": "display_data"
    }
   ],
   "source": [
    "def img_load(path):\n",
    "    img = cv2.imread(path)[:,:,::-1]\n",
    "    img = cv2.resize(img, (256, 256))\n",
    "    gc.collect()\n",
    "    torch.cuda.empty_cache()\n",
    "    return img\n",
    "\n",
    "train_imgs = [img_load(m) for m in tqdm(train_img)]\n",
    "test_imgs = [img_load(n) for n in tqdm(test_img)]"
   ],
   "metadata": {
    "collapsed": false,
    "pycharm": {
     "name": "#%%\n"
    }
   }
  },
  {
   "cell_type": "code",
   "execution_count": 8,
   "outputs": [],
   "source": [
    "def files_count(directory_path):\n",
    "    directory = os.listdir(directory_path)\n",
    "    return len(directory)\n",
    "\n",
    "# train data label 부여\n",
    "train_labels = []\n",
    "for i in classes:\n",
    "    length = files_count('train_img/' + f'{i}')\n",
    "    train_labels.extend([classes.index(f'{i}')] * length)"
   ],
   "metadata": {
    "collapsed": false,
    "pycharm": {
     "name": "#%%\n"
    }
   }
  },
  {
   "cell_type": "code",
   "execution_count": 9,
   "outputs": [],
   "source": [
    "# df_train = pd.DataFrame()\n",
    "# df_train['img'] = train_imgs\n",
    "# df_train['class'] = train_labels"
   ],
   "metadata": {
    "collapsed": false,
    "pycharm": {
     "name": "#%%\n"
    }
   }
  },
  {
   "cell_type": "code",
   "execution_count": 10,
   "outputs": [],
   "source": [
    "# test data label 부여\n",
    "test_labels = []\n",
    "for i in classes:\n",
    "    length = files_count('test_img/' + f'{i}')\n",
    "    test_labels.extend([classes.index(f'{i}')] * length)"
   ],
   "metadata": {
    "collapsed": false,
    "pycharm": {
     "name": "#%%\n"
    }
   }
  },
  {
   "cell_type": "code",
   "execution_count": 11,
   "outputs": [],
   "source": [
    "# df_test = pd.DataFrame()\n",
    "# df_test['img'] = test_imgs\n",
    "# df_test['class'] = label\n",
    "#\n",
    "# df_train.shape, df_test.shape"
   ],
   "metadata": {
    "collapsed": false,
    "pycharm": {
     "name": "#%%\n"
    }
   }
  },
  {
   "cell_type": "markdown",
   "source": [
    "## Augmentation"
   ],
   "metadata": {
    "collapsed": false,
    "pycharm": {
     "name": "#%% md\n"
    }
   }
  },
  {
   "cell_type": "code",
   "execution_count": 12,
   "outputs": [],
   "source": [
    "from albumentations.augmentations.transforms import Normalize\n",
    "import albumentations as A\n",
    "from albumentations.pytorch import ToTensorV2\n",
    "\n",
    "train_transform = A.Compose([\n",
    "        A.RandomBrightnessContrast(brightness_limit=0.1, contrast_limit=0.1),\n",
    "        A.RandomGamma(gamma_limit=(90, 110)),\n",
    "        A.ShiftScaleRotate(scale_limit=0.1, rotate_limit=10),\n",
    "        A.Transpose(),\n",
    "        A.RandomRotate90(),\n",
    "        A.OneOf([A.NoOp(), A.MultiplicativeNoise(), A.GaussNoise(), A.ISONoise()]),\n",
    "        A.OneOf(\n",
    "            [\n",
    "                A.NoOp(p=0.8),\n",
    "                A.HueSaturationValue(hue_shift_limit=10, sat_shift_limit=10),\n",
    "                A.RGBShift(r_shift_limit=10, g_shift_limit=10, b_shift_limit=10)\n",
    "            ],\n",
    "            p=0.2,\n",
    "        ),\n",
    "        A.OneOf([A.ElasticTransform(), A.GridDistortion(), A.NoOp()]),\n",
    "        A.Normalize(mean=(0.485, 0.456, 0.406), std=(0.229, 0.224, 0.225)), # Resnet 참고\n",
    "        ToTensorV2(),\n",
    "])\n",
    "\n",
    "test_transform = A.Compose([\n",
    "        A.Normalize(mean=(0.485, 0.456, 0.406), std=(0.229, 0.224, 0.225)), # Resnet 참고\n",
    "        ToTensorV2()\n",
    "])"
   ],
   "metadata": {
    "collapsed": false,
    "pycharm": {
     "name": "#%%\n"
    }
   }
  },
  {
   "cell_type": "code",
   "execution_count": 13,
   "outputs": [],
   "source": [
    "import torch.nn as nn\n",
    "from torch.utils.data import DataLoader, Dataset\n",
    "from sklearn.metrics import f1_score\n",
    "import time\n",
    "\n",
    "class Custom_dataset(Dataset):\n",
    "    def __init__(self, img_paths, labels, mode):\n",
    "        self.img_paths = img_paths\n",
    "        self.labels = labels\n",
    "        self.mode=mode\n",
    "\n",
    "    def __len__(self):\n",
    "        return len(self.img_paths)\n",
    "\n",
    "    def __getitem__(self, idx):\n",
    "        img = self.img_paths[idx]\n",
    "        if self.mode=='train':\n",
    "            img = train_transform(image=img)\n",
    "\n",
    "        if self.mode=='test':\n",
    "            img = test_transform(image=img)\n",
    "\n",
    "        label = self.labels[idx]\n",
    "        return img, label"
   ],
   "metadata": {
    "collapsed": false,
    "pycharm": {
     "name": "#%%\n"
    }
   }
  },
  {
   "cell_type": "markdown",
   "source": [
    "# Hyper Parameter"
   ],
   "metadata": {
    "collapsed": false,
    "pycharm": {
     "name": "#%% md\n"
    }
   }
  },
  {
   "cell_type": "code",
   "execution_count": 14,
   "outputs": [],
   "source": [
    "HYP = {\n",
    "    'EPOCHS' : 2,\n",
    "    'BATCH_SIZE' : 32,\n",
    "    'LEARNING_RATE' : 3e-4,\n",
    "    'log' : True,\n",
    "    'SEED': 41\n",
    "}\n",
    "\n",
    "def seed_everything(seed):\n",
    "    random.seed(seed)\n",
    "    os.environ['PYTHONHASHSEED'] = str(seed)\n",
    "    np.random.seed(seed)\n",
    "    torch.manual_seed(seed)\n",
    "    torch.cuda.manual_seed(seed)\n",
    "    torch.backends.cudnn.deterministic = True\n",
    "    torch.backends.cudnn.benchmark = True\n",
    "\n",
    "seed_everything(HYP['SEED'])"
   ],
   "metadata": {
    "collapsed": false,
    "pycharm": {
     "name": "#%%\n"
    }
   }
  },
  {
   "cell_type": "markdown",
   "source": [
    "## DataLoader"
   ],
   "metadata": {
    "collapsed": false,
    "pycharm": {
     "name": "#%% md\n"
    }
   }
  },
  {
   "cell_type": "code",
   "execution_count": 15,
   "outputs": [],
   "source": [
    "#CustomDataset class를 통하여 train dataset생성\n",
    "train_dataset = Custom_dataset(np.array(train_imgs), np.array(train_labels), mode='train')\n",
    "#만든 train dataset를 DataLoader에 넣어 batch 만들기\n",
    "train_loader = DataLoader(train_dataset, batch_size = HYP[\"BATCH_SIZE\"], shuffle=True, num_workers=0)\n",
    "\n",
    "#CustomDataset class를 통하여 test dataset생성\n",
    "test_dataset = Custom_dataset(np.array(test_imgs), np.array([\"tmp\"]*len(test_imgs)), mode='test')\n",
    "#만든 test dataset를 DataLoader에 넣어 batch 만들기\n",
    "test_loader = DataLoader(test_dataset, batch_size = HYP[\"BATCH_SIZE\"], shuffle=False, num_workers=0)"
   ],
   "metadata": {
    "collapsed": false,
    "pycharm": {
     "name": "#%%\n"
    }
   }
  },
  {
   "cell_type": "markdown",
   "source": [
    "## Model Architecture"
   ],
   "metadata": {
    "collapsed": false,
    "pycharm": {
     "name": "#%% md\n"
    }
   }
  },
  {
   "cell_type": "code",
   "execution_count": 16,
   "outputs": [],
   "source": [
    "def count_parameters(model):\n",
    "    total_params = 0\n",
    "    for name, parameter in model.named_parameters():\n",
    "        if not parameter.requires_grad:\n",
    "            continue\n",
    "        param = parameter.numel()\n",
    "        total_params+=param\n",
    "    print(f\"Total Trainable Params: {total_params}\")\n",
    "    return total_params"
   ],
   "metadata": {
    "collapsed": false,
    "pycharm": {
     "name": "#%%\n"
    }
   }
  },
  {
   "cell_type": "code",
   "execution_count": 17,
   "outputs": [],
   "source": [
    "class Resnet50(torch.nn.Module):\n",
    "    def __init__(self):\n",
    "        super(Resnet50, self).__init__()\n",
    "        # self.model = models.resnet50(pretrained=True)\n",
    "        self.model = models.resnet50(weights=ResNet50_Weights.DEFAULT)\n",
    "\n",
    "        num_ftrs = self.model.fc.in_features\n",
    "        self.model.fc = nn.Linear(num_ftrs, 10)\n",
    "\n",
    "        count_parameters(self.model)\n",
    "    def forward(self, inputs):\n",
    "        output = self.model(inputs)\n",
    "        return output\n",
    "\n",
    "class Network_b3(nn.Module):\n",
    "    def __init__(self):\n",
    "        super(Network_b3, self).__init__()\n",
    "        # self.model = models.efficientnet_b3(pretrained=True)\n",
    "        self.model = models.efficientnet_b3(weights=EfficientNet_B3_Weights)\n",
    "\n",
    "    def forward(self, inputs):\n",
    "        output = self.model(inputs)\n",
    "        return output"
   ],
   "metadata": {
    "collapsed": false,
    "pycharm": {
     "name": "#%%\n"
    }
   }
  },
  {
   "cell_type": "markdown",
   "source": [
    "## Loss"
   ],
   "metadata": {
    "collapsed": false,
    "pycharm": {
     "name": "#%% md\n"
    }
   }
  },
  {
   "cell_type": "code",
   "execution_count": 45,
   "outputs": [],
   "source": [
    "def score_function(real, pred):\n",
    "    real = real.detach().cpu()\n",
    "    pred = pred.detach().cpu()\n",
    "    score = f1_score(real, pred, average=\"macro\")\n",
    "    return score"
   ],
   "metadata": {
    "collapsed": false,
    "pycharm": {
     "name": "#%%\n"
    }
   }
  },
  {
   "cell_type": "markdown",
   "source": [
    "## Train"
   ],
   "metadata": {
    "collapsed": false,
    "pycharm": {
     "name": "#%% md\n"
    }
   }
  },
  {
   "cell_type": "code",
   "execution_count": 46,
   "outputs": [],
   "source": [
    "# Resnet = Resnet50().to(device)\n",
    "#\n",
    "# optimizer = torch.optim.Adam(Resnet.parameters(), lr=HYP['LEARNING_RATE'])\n",
    "# criterion = nn.CrossEntropyLoss()\n",
    "# scaler = torch.cuda.amp.GradScaler()\n",
    "#\n",
    "# path = './weights/'\n",
    "# if not os.path.isdir(path):\n",
    "#     os.mkdir(path)\n",
    "#\n",
    "# epochs = HYP['EPOCHS']\n",
    "#\n",
    "# for epoch in range(epochs):\n",
    "#     start=time.time()\n",
    "#     train_loss = 0\n",
    "#     train_pred=[]\n",
    "#     train_y=[]\n",
    "#     Resnet.train()\n",
    "#     for batch in (train_loader):\n",
    "#         optimizer.zero_grad()\n",
    "#         x = torch.tensor(batch[0]['image'], dtype=torch.float32, device=device)\n",
    "#         y = torch.tensor(batch[1], dtype=torch.long, device=device)\n",
    "#\n",
    "#         pred = Resnet(x)\n",
    "#         loss = criterion(pred, y)\n",
    "#\n",
    "#\n",
    "#         scaler.scale(loss).backward()\n",
    "#         scaler.step(optimizer)\n",
    "#         scaler.update()\n",
    "#\n",
    "#         train_loss += loss.item()/len(train_loader)\n",
    "#         train_pred += pred.argmax(1).detach().cpu().numpy().tolist()\n",
    "#         train_y += y.detach().cpu().numpy().tolist()\n",
    "#\n",
    "#     train_f1 = score_function(train_y, train_pred)\n",
    "#\n",
    "#     TIME = time.time() - start\n",
    "#     print(f'epoch : {epoch+1}/{epochs}    time : {TIME:.0f}s/{TIME*(epochs-epoch-1):.0f}s')\n",
    "#     print(f'TRAIN    loss : {train_loss:.5f}    f1 : {train_f1:.5f}')\n",
    "#\n",
    "#     # 모델 저장\n",
    "#     torch.save({\n",
    "#                 'epoch': epoch,\n",
    "#                 'model_state_dict': Resnet.state_dict(),\n",
    "#                 'optimizer_state_dict': optimizer.state_dict(),\n",
    "#                 \"scaler\": scaler.state_dict(),\n",
    "#                 'loss': loss,\n",
    "#                 }, f\"{path}/Resnet.pt\")"
   ],
   "metadata": {
    "collapsed": false,
    "pycharm": {
     "name": "#%%\n"
    }
   }
  },
  {
   "cell_type": "code",
   "execution_count": 47,
   "outputs": [],
   "source": [
    "def train(model, optimizer, train_loader, vali_loader, scheduler, device, fold):\n",
    "    model.to(device)\n",
    "    train_loss = 0\n",
    "    train_pred=[]\n",
    "    train_label=[]\n",
    "    # Loss Function\n",
    "    criterion = nn.CrossEntropyLoss().to(device)\n",
    "\n",
    "    scaler = torch.cuda.amp.GradScaler()\n",
    "\n",
    "    for epoch in range(1,HYP[\"EPOCHS\"]+1):\n",
    "        model.train()\n",
    "        train_loss = []\n",
    "\n",
    "        for batch in (train_loader):\n",
    "            optimizer.zero_grad()\n",
    "            img = torch.tensor(batch[0]['image'], dtype=torch.float32, device=device)\n",
    "            label = torch.tensor(batch[1], dtype=torch.long, device=device)\n",
    "\n",
    "            # Data -> Model -> Output\n",
    "            pred = model(img)\n",
    "            # Calc loss\n",
    "            loss = criterion(pred, label)\n",
    "\n",
    "            # backpropagation\n",
    "            scaler.scale(loss).backward()\n",
    "            scaler.step(optimizer)\n",
    "            scaler.update()\n",
    "\n",
    "            train_loss.append(loss.item())\n",
    "            train_pred += pred.argmax(1).detach().cpu().numpy().tolist()\n",
    "            train_label += label.detach().cpu().numpy().tolist()\n",
    "\n",
    "            train_loss.append(loss.item())\n",
    "\n",
    "        train_f1 = score_function(label, pred)\n",
    "\n",
    "        if scheduler is not None:\n",
    "            scheduler.step()\n",
    "\n",
    "        # Evaluation Validation set\n",
    "        vali_f1 = validation(model, vali_loader, criterion, device, best_f1)\n",
    "\n",
    "        print(f'Epoch [{epoch}] Train f1_score : [{np.mean(train_f1):.5f}] \\\n",
    "        Validation f1_score : [{vali_f1:.5f}] Validation NMAE : [{a:.5f}]\\n')\n",
    "\n",
    "        # Model Saved\n",
    "        if best_f1 > vali_f1:\n",
    "            best_f1 = vali_f1\n",
    "            torch.save(model.state_dict(), './saved/res50_fold{}_curr.pth'.format(fold))\n",
    "            print('Model Saved.')\n",
    "\n",
    "    plt.plot(train_f1, label = 'trn')\n",
    "    plt.plot(vali_f1, label = 'vali')\n",
    "    plt.legend(loc='upper right')\n",
    "    plt.show()"
   ],
   "metadata": {
    "collapsed": false,
    "pycharm": {
     "name": "#%%\n"
    }
   }
  },
  {
   "cell_type": "code",
   "execution_count": 48,
   "outputs": [],
   "source": [
    "def validation(model, vali_loader, criterion, device, best_f1, test=False):\n",
    "    model.eval() # Evaluation\n",
    "\n",
    "    # train_loss = 0\n",
    "    # train_pred=[]\n",
    "    # train_label=[]\n",
    "    vali_loss = []\n",
    "    vali_pred = []\n",
    "    vali_label = []\n",
    "    with torch.no_grad():\n",
    "        for batch in (vali_loader):\n",
    "            img = torch.tensor(batch[0]['image'], dtype=torch.float32, device=device)\n",
    "            label = torch.tensor(batch[1], dtype=torch.long, device=device)\n",
    "\n",
    "            pred = model(img)\n",
    "            loss = criterion(pred, label)\n",
    "\n",
    "            vali_loss.append(loss.item())\n",
    "\n",
    "            pred = pred.squeeze(1).detach().cpu()\n",
    "            label = label.detach().cpu()\n",
    "            vali_label.extend(label.tolist())\n",
    "            vali_pred.extend(pred.tolist())\n",
    "\n",
    "\n",
    "        vali_f1 = score_function(label, pred)\n",
    "\n",
    "\n",
    "    # if HYP['log']:\n",
    "    #     vali_nmae_loss = NMAE(np.expm1(np.array(label_true)), np.expm1(np.array(model_pred)))\n",
    "    #     diff = np.abs(np.expm1(np.array(label_true)) - np.expm1(np.array(model_pred)))\n",
    "    # else:\n",
    "    #     vali_nmae_loss = NMAE(np.array(label_true), np.array(model_pred))\n",
    "    #     diff = (np.array(label_true) - np.array(model_pred))\n",
    "\n",
    "\n",
    "    if best_f1 > vali_f1:\n",
    "        plt.figure(figsize=(30,2))\n",
    "        plt.plot(best_f1, vali_f1)\n",
    "        plt.axhline(y=0.1*100, color='black')\n",
    "        plt.axhline(y=0.2*100, color='black')\n",
    "        plt.axhline(y=0.3*100, color='black')\n",
    "        plt.axhline(y=0.4*100, color='black')\n",
    "        plt.axhline(y=0.5*100, color='black')\n",
    "        # if HYP['log']:\n",
    "        #     plt.axhline(y=np.expm1(np.mean(label_true)), color='red')\n",
    "        # else:\n",
    "        #     plt.axhline(y=np.mean(label_true), color='red')\n",
    "        # ax_twin = plt.twinx()\n",
    "        # if HYP['log']:\n",
    "        #     ax_twin.plot(np.expm1(np.array(label_true)), alpha=0.5)\n",
    "        # else:\n",
    "        #     ax_twin.plot(np.array(label_true), alpha=0.5)\n",
    "    plt.show()\n",
    "    return vali_f1"
   ],
   "metadata": {
    "collapsed": false,
    "pycharm": {
     "name": "#%%\n"
    }
   }
  },
  {
   "cell_type": "code",
   "execution_count": 49,
   "outputs": [
    {
     "name": "stdout",
     "output_type": "stream",
     "text": [
      "################################################################################\n",
      "fold: 0\n"
     ]
    },
    {
     "name": "stderr",
     "output_type": "stream",
     "text": [
      "C:\\Users\\rihot\\.conda\\envs\\py38\\lib\\site-packages\\torchvision\\models\\_utils.py:208: UserWarning: The parameter 'pretrained' is deprecated since 0.13 and will be removed in 0.15, please use 'weights' instead.\n",
      "  warnings.warn(\n",
      "C:\\Users\\rihot\\.conda\\envs\\py38\\lib\\site-packages\\torchvision\\models\\_utils.py:223: UserWarning: Arguments other than a weight enum or `None` for 'weights' are deprecated since 0.13 and will be removed in 0.15. The current behavior is equivalent to passing `weights=ResNet50_Weights.IMAGENET1K_V1`. You can also use `weights=ResNet50_Weights.DEFAULT` to get the most up-to-date weights.\n",
      "  warnings.warn(msg)\n"
     ]
    },
    {
     "name": "stdout",
     "output_type": "stream",
     "text": [
      "Total Trainable Params: 23528522\n",
      "total_steps:  1046\n",
      "warmup_steps:  104\n"
     ]
    },
    {
     "name": "stderr",
     "output_type": "stream",
     "text": [
      "C:\\Users\\rihot\\AppData\\Local\\Temp\\ipykernel_12124\\4008437547.py:17: UserWarning: To copy construct from a tensor, it is recommended to use sourceTensor.clone().detach() or sourceTensor.clone().detach().requires_grad_(True), rather than torch.tensor(sourceTensor).\n",
      "  img = torch.tensor(batch[0]['image'], dtype=torch.float32, device=device)\n",
      "C:\\Users\\rihot\\AppData\\Local\\Temp\\ipykernel_12124\\4008437547.py:18: UserWarning: To copy construct from a tensor, it is recommended to use sourceTensor.clone().detach() or sourceTensor.clone().detach().requires_grad_(True), rather than torch.tensor(sourceTensor).\n",
      "  label = torch.tensor(batch[1], dtype=torch.long, device=device)\n"
     ]
    },
    {
     "ename": "KeyboardInterrupt",
     "evalue": "",
     "output_type": "error",
     "traceback": [
      "\u001B[1;31m---------------------------------------------------------------------------\u001B[0m",
      "\u001B[1;31mKeyboardInterrupt\u001B[0m                         Traceback (most recent call last)",
      "Input \u001B[1;32mIn [49]\u001B[0m, in \u001B[0;36m<cell line: 4>\u001B[1;34m()\u001B[0m\n\u001B[0;32m     28\u001B[0m \u001B[38;5;28mprint\u001B[39m(\u001B[38;5;124m'\u001B[39m\u001B[38;5;124mwarmup_steps: \u001B[39m\u001B[38;5;124m'\u001B[39m, warmup_steps)\n\u001B[0;32m     29\u001B[0m scheduler \u001B[38;5;241m=\u001B[39m get_cosine_schedule_with_warmup(optimizer, num_warmup_steps\u001B[38;5;241m=\u001B[39mwarmup_steps, num_training_steps\u001B[38;5;241m=\u001B[39mtotal_steps)\n\u001B[1;32m---> 30\u001B[0m \u001B[43mtrain\u001B[49m\u001B[43m(\u001B[49m\u001B[43mmodel\u001B[49m\u001B[43m,\u001B[49m\u001B[43m \u001B[49m\u001B[43moptimizer\u001B[49m\u001B[43m,\u001B[49m\u001B[43m \u001B[49m\u001B[43mtrain_loader\u001B[49m\u001B[43m,\u001B[49m\u001B[43m \u001B[49m\u001B[43mvali_loader\u001B[49m\u001B[43m,\u001B[49m\u001B[43m \u001B[49m\u001B[43mscheduler\u001B[49m\u001B[43m,\u001B[49m\u001B[43m \u001B[49m\u001B[43mdevice\u001B[49m\u001B[43m,\u001B[49m\u001B[43m \u001B[49m\u001B[43mfold\u001B[49m\u001B[43m)\u001B[49m\n",
      "Input \u001B[1;32mIn [47]\u001B[0m, in \u001B[0;36mtrain\u001B[1;34m(model, optimizer, train_loader, vali_loader, scheduler, device, fold)\u001B[0m\n\u001B[0;32m     25\u001B[0m \u001B[38;5;66;03m# backpropagation\u001B[39;00m\n\u001B[0;32m     26\u001B[0m scaler\u001B[38;5;241m.\u001B[39mscale(loss)\u001B[38;5;241m.\u001B[39mbackward()\n\u001B[1;32m---> 27\u001B[0m \u001B[43mscaler\u001B[49m\u001B[38;5;241;43m.\u001B[39;49m\u001B[43mstep\u001B[49m\u001B[43m(\u001B[49m\u001B[43moptimizer\u001B[49m\u001B[43m)\u001B[49m\n\u001B[0;32m     28\u001B[0m scaler\u001B[38;5;241m.\u001B[39mupdate()\n\u001B[0;32m     30\u001B[0m train_loss\u001B[38;5;241m.\u001B[39mappend(loss\u001B[38;5;241m.\u001B[39mitem())\n",
      "File \u001B[1;32m~\\.conda\\envs\\py38\\lib\\site-packages\\torch\\cuda\\amp\\grad_scaler.py:338\u001B[0m, in \u001B[0;36mGradScaler.step\u001B[1;34m(self, optimizer, *args, **kwargs)\u001B[0m\n\u001B[0;32m    334\u001B[0m     \u001B[38;5;28mself\u001B[39m\u001B[38;5;241m.\u001B[39munscale_(optimizer)\n\u001B[0;32m    336\u001B[0m \u001B[38;5;28;01massert\u001B[39;00m \u001B[38;5;28mlen\u001B[39m(optimizer_state[\u001B[38;5;124m\"\u001B[39m\u001B[38;5;124mfound_inf_per_device\u001B[39m\u001B[38;5;124m\"\u001B[39m]) \u001B[38;5;241m>\u001B[39m \u001B[38;5;241m0\u001B[39m, \u001B[38;5;124m\"\u001B[39m\u001B[38;5;124mNo inf checks were recorded for this optimizer.\u001B[39m\u001B[38;5;124m\"\u001B[39m\n\u001B[1;32m--> 338\u001B[0m retval \u001B[38;5;241m=\u001B[39m \u001B[38;5;28;43mself\u001B[39;49m\u001B[38;5;241;43m.\u001B[39;49m\u001B[43m_maybe_opt_step\u001B[49m\u001B[43m(\u001B[49m\u001B[43moptimizer\u001B[49m\u001B[43m,\u001B[49m\u001B[43m \u001B[49m\u001B[43moptimizer_state\u001B[49m\u001B[43m,\u001B[49m\u001B[43m \u001B[49m\u001B[38;5;241;43m*\u001B[39;49m\u001B[43margs\u001B[49m\u001B[43m,\u001B[49m\u001B[43m \u001B[49m\u001B[38;5;241;43m*\u001B[39;49m\u001B[38;5;241;43m*\u001B[39;49m\u001B[43mkwargs\u001B[49m\u001B[43m)\u001B[49m\n\u001B[0;32m    340\u001B[0m optimizer_state[\u001B[38;5;124m\"\u001B[39m\u001B[38;5;124mstage\u001B[39m\u001B[38;5;124m\"\u001B[39m] \u001B[38;5;241m=\u001B[39m OptState\u001B[38;5;241m.\u001B[39mSTEPPED\n\u001B[0;32m    342\u001B[0m \u001B[38;5;28;01mreturn\u001B[39;00m retval\n",
      "File \u001B[1;32m~\\.conda\\envs\\py38\\lib\\site-packages\\torch\\cuda\\amp\\grad_scaler.py:284\u001B[0m, in \u001B[0;36mGradScaler._maybe_opt_step\u001B[1;34m(self, optimizer, optimizer_state, *args, **kwargs)\u001B[0m\n\u001B[0;32m    282\u001B[0m \u001B[38;5;28;01mdef\u001B[39;00m \u001B[38;5;21m_maybe_opt_step\u001B[39m(\u001B[38;5;28mself\u001B[39m, optimizer, optimizer_state, \u001B[38;5;241m*\u001B[39margs, \u001B[38;5;241m*\u001B[39m\u001B[38;5;241m*\u001B[39mkwargs):\n\u001B[0;32m    283\u001B[0m     retval \u001B[38;5;241m=\u001B[39m \u001B[38;5;28;01mNone\u001B[39;00m\n\u001B[1;32m--> 284\u001B[0m     \u001B[38;5;28;01mif\u001B[39;00m \u001B[38;5;129;01mnot\u001B[39;00m \u001B[38;5;28;43msum\u001B[39;49m\u001B[43m(\u001B[49m\u001B[43mv\u001B[49m\u001B[38;5;241;43m.\u001B[39;49m\u001B[43mitem\u001B[49m\u001B[43m(\u001B[49m\u001B[43m)\u001B[49m\u001B[43m \u001B[49m\u001B[38;5;28;43;01mfor\u001B[39;49;00m\u001B[43m \u001B[49m\u001B[43mv\u001B[49m\u001B[43m \u001B[49m\u001B[38;5;129;43;01min\u001B[39;49;00m\u001B[43m \u001B[49m\u001B[43moptimizer_state\u001B[49m\u001B[43m[\u001B[49m\u001B[38;5;124;43m\"\u001B[39;49m\u001B[38;5;124;43mfound_inf_per_device\u001B[39;49m\u001B[38;5;124;43m\"\u001B[39;49m\u001B[43m]\u001B[49m\u001B[38;5;241;43m.\u001B[39;49m\u001B[43mvalues\u001B[49m\u001B[43m(\u001B[49m\u001B[43m)\u001B[49m\u001B[43m)\u001B[49m:\n\u001B[0;32m    285\u001B[0m         retval \u001B[38;5;241m=\u001B[39m optimizer\u001B[38;5;241m.\u001B[39mstep(\u001B[38;5;241m*\u001B[39margs, \u001B[38;5;241m*\u001B[39m\u001B[38;5;241m*\u001B[39mkwargs)\n\u001B[0;32m    286\u001B[0m     \u001B[38;5;28;01mreturn\u001B[39;00m retval\n",
      "File \u001B[1;32m~\\.conda\\envs\\py38\\lib\\site-packages\\torch\\cuda\\amp\\grad_scaler.py:284\u001B[0m, in \u001B[0;36m<genexpr>\u001B[1;34m(.0)\u001B[0m\n\u001B[0;32m    282\u001B[0m \u001B[38;5;28;01mdef\u001B[39;00m \u001B[38;5;21m_maybe_opt_step\u001B[39m(\u001B[38;5;28mself\u001B[39m, optimizer, optimizer_state, \u001B[38;5;241m*\u001B[39margs, \u001B[38;5;241m*\u001B[39m\u001B[38;5;241m*\u001B[39mkwargs):\n\u001B[0;32m    283\u001B[0m     retval \u001B[38;5;241m=\u001B[39m \u001B[38;5;28;01mNone\u001B[39;00m\n\u001B[1;32m--> 284\u001B[0m     \u001B[38;5;28;01mif\u001B[39;00m \u001B[38;5;129;01mnot\u001B[39;00m \u001B[38;5;28msum\u001B[39m(\u001B[43mv\u001B[49m\u001B[38;5;241;43m.\u001B[39;49m\u001B[43mitem\u001B[49m\u001B[43m(\u001B[49m\u001B[43m)\u001B[49m \u001B[38;5;28;01mfor\u001B[39;00m v \u001B[38;5;129;01min\u001B[39;00m optimizer_state[\u001B[38;5;124m\"\u001B[39m\u001B[38;5;124mfound_inf_per_device\u001B[39m\u001B[38;5;124m\"\u001B[39m]\u001B[38;5;241m.\u001B[39mvalues()):\n\u001B[0;32m    285\u001B[0m         retval \u001B[38;5;241m=\u001B[39m optimizer\u001B[38;5;241m.\u001B[39mstep(\u001B[38;5;241m*\u001B[39margs, \u001B[38;5;241m*\u001B[39m\u001B[38;5;241m*\u001B[39mkwargs)\n\u001B[0;32m    286\u001B[0m     \u001B[38;5;28;01mreturn\u001B[39;00m retval\n",
      "\u001B[1;31mKeyboardInterrupt\u001B[0m: "
     ]
    }
   ],
   "source": [
    "list_idx = list(np.arange(0,len(train_imgs)))\n",
    "\n",
    "kf = KFold(n_splits=5)\n",
    "for fold, (train_idx, valid_idx) in enumerate(kf.split(list_idx)):\n",
    "    print(\"#\"*80)\n",
    "    print(\"fold: {}\".format(fold))\n",
    "    train_img_list = [train_imgs[i] for i in train_idx]\n",
    "    train_label = [train_labels[i] for i in train_idx]\n",
    "\n",
    "    vali_img_list = [train_imgs[i] for i in valid_idx]\n",
    "    vali_label = [train_labels[i] for i in valid_idx]\n",
    "\n",
    "    # Get Dataloader\n",
    "    train_dataset = Custom_dataset(train_img_list, train_label, mode='train',)\n",
    "    train_loader = DataLoader(train_dataset, batch_size = HYP['BATCH_SIZE'], shuffle=True, num_workers=0)\n",
    "\n",
    "    vali_dataset = Custom_dataset(vali_img_list, vali_label, mode='test')\n",
    "    vali_loader = DataLoader(vali_dataset, batch_size = HYP['BATCH_SIZE'], shuffle=False, num_workers=0)\n",
    "\n",
    "    model = Resnet50().to(device)\n",
    "\n",
    "    optimizer = torch.optim.Adam(model.parameters(), lr=HYP['LEARNING_RATE'])\n",
    "\n",
    "    total_steps = int(len(train_dataset)*HYP['EPOCHS']/(HYP['BATCH_SIZE']))\n",
    "    warmup_ratio = 0.1\n",
    "    warmup_steps = int(total_steps * warmup_ratio) # warmup_steps = 1149\n",
    "    print('total_steps: ', total_steps)\n",
    "    print('warmup_steps: ', warmup_steps)\n",
    "    scheduler = get_cosine_schedule_with_warmup(optimizer, num_warmup_steps=warmup_steps, num_training_steps=total_steps)\n",
    "    train(model, optimizer, train_loader, vali_loader, scheduler, device, fold)"
   ],
   "metadata": {
    "collapsed": false,
    "pycharm": {
     "name": "#%%\n"
    }
   }
  },
  {
   "cell_type": "code",
   "execution_count": null,
   "outputs": [],
   "source": [
    "def predict(model, test_loader, device):\n",
    "    model.eval()\n",
    "    test_loss = []\n",
    "    model_pred = []\n",
    "    test_pred=[]\n",
    "    test_label=[]\n",
    "\n",
    "    with torch.no_grad():\n",
    "        for batch in (test_loader):\n",
    "            img = torch.tensor(batch[0]['image'], dtype=torch.float32, device=device)\n",
    "            label = torch.tensor(batch[1], dtype=torch.long, device=device)\n",
    "\n",
    "            pred = model(img)\n",
    "            pred = pred.squeeze(1).detach().cpu()\n",
    "            # loss = criterion(pred, label)\n",
    "            #\n",
    "            # test_loss.append(loss.item())\n",
    "\n",
    "            pred = pred.squeeze(1).detach().cpu()\n",
    "            label = label.detach().cpu()\n",
    "\n",
    "            test_label.extend(label.tolist())\n",
    "            test_pred.extend(pred.tolist())\n",
    "\n",
    "            model_pred.extend(pred.tolist())\n",
    "        test_f1 = score_function(label, pred)\n",
    "        print(f'test_f1 [{test_f1}])\n",
    "\n",
    "    return model_pred\n",
    "\n",
    "checkpoint = torch.load('./saved/res50_fold{}_curr.pth'.format(fold))\n",
    "model = Resnet50().to(device)\n",
    "model.load_state_dict(checkpoint)\n",
    "\n",
    "preds = predict(model, test_loader, device)"
   ],
   "metadata": {
    "collapsed": false,
    "pycharm": {
     "name": "#%%\n"
    }
   }
  },
  {
   "cell_type": "code",
   "execution_count": null,
   "outputs": [],
   "source": [],
   "metadata": {
    "collapsed": false,
    "pycharm": {
     "name": "#%%\n"
    }
   }
  }
 ],
 "metadata": {
  "kernelspec": {
   "display_name": "Python 3",
   "language": "python",
   "name": "python3"
  },
  "language_info": {
   "codemirror_mode": {
    "name": "ipython",
    "version": 2
   },
   "file_extension": ".py",
   "mimetype": "text/x-python",
   "name": "python",
   "nbconvert_exporter": "python",
   "pygments_lexer": "ipython2",
   "version": "2.7.6"
  }
 },
 "nbformat": 4,
 "nbformat_minor": 0
}