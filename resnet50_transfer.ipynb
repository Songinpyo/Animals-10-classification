{
 "cells": [
  {
   "cell_type": "code",
   "execution_count": 1,
   "outputs": [],
   "source": [
    "import torch\n",
    "import random\n",
    "import numpy as np\n",
    "import pandas as pd\n",
    "from glob import glob\n",
    "import os\n",
    "import cv2\n",
    "import gc\n",
    "import warnings\n",
    "\n",
    "from sklearn.model_selection import KFold\n",
    "from tqdm.auto import tqdm\n",
    "import torchvision.models as models\n",
    "from matplotlib import pyplot as plt\n",
    "from transformers import get_cosine_schedule_with_warmup\n",
    "\n",
    "device = torch.device('cuda') if torch.cuda.is_available() else torch.device('cpu') #GPU 할당\n",
    "\n",
    "warnings.filterwarnings('ignore') #경고 무시"
   ],
   "metadata": {
    "collapsed": false,
    "pycharm": {
     "name": "#%%\n"
    }
   }
  },
  {
   "cell_type": "markdown",
   "source": [
    "# Hyper Parameter"
   ],
   "metadata": {
    "collapsed": false,
    "pycharm": {
     "name": "#%% md\n"
    }
   }
  },
  {
   "cell_type": "code",
   "execution_count": 2,
   "outputs": [],
   "source": [
    "HYP = {\n",
    "    'EPOCHS' : 3,\n",
    "    'BATCH_SIZE' : 32,\n",
    "    'LEARNING_RATE' : 3e-4,\n",
    "    'log' : True,\n",
    "    'SEED': 41,\n",
    "    'IMG_SIZE': 32\n",
    "}\n",
    "\n",
    "def seed_everything(seed):\n",
    "    random.seed(seed)\n",
    "    os.environ['PYTHONHASHSEED'] = str(seed)\n",
    "    np.random.seed(seed)\n",
    "    torch.manual_seed(seed)\n",
    "    torch.cuda.manual_seed(seed)\n",
    "    torch.backends.cudnn.deterministic = True\n",
    "    torch.backends.cudnn.benchmark = True\n",
    "\n",
    "seed_everything(HYP['SEED'])"
   ],
   "metadata": {
    "collapsed": false,
    "pycharm": {
     "name": "#%%\n"
    }
   }
  },
  {
   "cell_type": "markdown",
   "source": [
    "## 데이터 로드"
   ],
   "metadata": {
    "collapsed": false,
    "pycharm": {
     "name": "#%% md\n"
    }
   }
  },
  {
   "cell_type": "code",
   "execution_count": 3,
   "outputs": [],
   "source": [
    "os.chdir(\"C:/deep/Animals-10-classification/\")\n",
    "\n",
    "classes = [\"butterfly\", \"cat\", \"chicken\", \"cow\", \"dog\", \"elephant\", \"horse\", \"sheep\", \"spider\", \"squirrel\"]"
   ],
   "metadata": {
    "collapsed": false,
    "pycharm": {
     "name": "#%%\n"
    }
   }
  },
  {
   "cell_type": "code",
   "execution_count": 4,
   "outputs": [],
   "source": [
    "train_img = []\n",
    "test_img = []"
   ],
   "metadata": {
    "collapsed": false,
    "pycharm": {
     "name": "#%%\n"
    }
   }
  },
  {
   "cell_type": "code",
   "execution_count": 5,
   "outputs": [],
   "source": [
    "for i in classes:\n",
    "    train_jpg = sorted(glob('train_img/' + f'{i}' + '/' + f'{i}_*.jpg'))\n",
    "    train_img.extend(train_jpg)\n",
    "\n",
    "    test_jpg = sorted(glob('test_img/' + f'{i}' + '/' + f'{i}_*.jpg'))\n",
    "    test_img.extend(test_jpg)"
   ],
   "metadata": {
    "collapsed": false,
    "pycharm": {
     "name": "#%%\n"
    }
   }
  },
  {
   "cell_type": "code",
   "execution_count": 6,
   "outputs": [
    {
     "data": {
      "text/plain": "  0%|          | 0/20938 [00:00<?, ?it/s]",
      "application/vnd.jupyter.widget-view+json": {
       "version_major": 2,
       "version_minor": 0,
       "model_id": "4c275f56c6a241a585ba31af841ca623"
      }
     },
     "metadata": {},
     "output_type": "display_data"
    },
    {
     "data": {
      "text/plain": "  0%|          | 0/5241 [00:00<?, ?it/s]",
      "application/vnd.jupyter.widget-view+json": {
       "version_major": 2,
       "version_minor": 0,
       "model_id": "99ecb375203b4b8397ca940dae31fa0a"
      }
     },
     "metadata": {},
     "output_type": "display_data"
    }
   ],
   "source": [
    "def img_load(path):\n",
    "    img = cv2.imread(path)[:,:,::-1]\n",
    "    img = cv2.resize(img, (HYP['IMG_SIZE'], HYP['IMG_SIZE']))\n",
    "    gc.collect()\n",
    "    torch.cuda.empty_cache()\n",
    "    return img\n",
    "\n",
    "train_imgs = [img_load(m) for m in tqdm(train_img)]\n",
    "test_imgs = [img_load(n) for n in tqdm(test_img)]"
   ],
   "metadata": {
    "collapsed": false,
    "pycharm": {
     "name": "#%%\n"
    }
   }
  },
  {
   "cell_type": "code",
   "execution_count": 7,
   "outputs": [],
   "source": [
    "def files_count(directory_path):\n",
    "    directory = os.listdir(directory_path)\n",
    "    return len(directory)\n",
    "\n",
    "# train data label 부여\n",
    "train_labels = []\n",
    "for i in classes:\n",
    "    length = files_count('train_img/' + f'{i}')\n",
    "    train_labels.extend([classes.index(f'{i}')] * length)"
   ],
   "metadata": {
    "collapsed": false,
    "pycharm": {
     "name": "#%%\n"
    }
   }
  },
  {
   "cell_type": "code",
   "execution_count": 8,
   "outputs": [],
   "source": [
    "# test data label 부여\n",
    "test_labels = []\n",
    "for i in classes:\n",
    "    length = files_count('test_img/' + f'{i}')\n",
    "    test_labels.extend([classes.index(f'{i}')] * length)"
   ],
   "metadata": {
    "collapsed": false,
    "pycharm": {
     "name": "#%%\n"
    }
   }
  },
  {
   "cell_type": "markdown",
   "source": [
    "## Augmentation"
   ],
   "metadata": {
    "collapsed": false,
    "pycharm": {
     "name": "#%% md\n"
    }
   }
  },
  {
   "cell_type": "code",
   "execution_count": 9,
   "outputs": [],
   "source": [
    "from albumentations.augmentations.transforms import Normalize\n",
    "import albumentations as A\n",
    "from albumentations.pytorch import ToTensorV2\n",
    "\n",
    "train_transform = A.Compose([\n",
    "        A.RandomBrightnessContrast(brightness_limit=0.1, contrast_limit=0.1),\n",
    "        A.RandomGamma(gamma_limit=(90, 110)),\n",
    "        A.ShiftScaleRotate(scale_limit=0.1, rotate_limit=10),\n",
    "        A.Transpose(),\n",
    "        A.RandomRotate90(),\n",
    "        A.OneOf([A.NoOp(), A.MultiplicativeNoise(), A.GaussNoise(), A.ISONoise()]),\n",
    "        A.OneOf(\n",
    "            [\n",
    "                A.NoOp(p=0.8),\n",
    "                A.HueSaturationValue(hue_shift_limit=10, sat_shift_limit=10),\n",
    "                A.RGBShift(r_shift_limit=10, g_shift_limit=10, b_shift_limit=10)\n",
    "            ],\n",
    "            p=0.2,\n",
    "        ),\n",
    "        A.OneOf([A.ElasticTransform(), A.GridDistortion(), A.NoOp()]),\n",
    "        A.Resize(HYP['IMG_SIZE'], HYP['IMG_SIZE']),\n",
    "        A.Normalize(mean=(0.485, 0.456, 0.406), std=(0.229, 0.224, 0.225)), # Resnet 참고\n",
    "        ToTensorV2(),\n",
    "])\n",
    "\n",
    "test_transform = A.Compose([\n",
    "        A.Resize(HYP['IMG_SIZE'], HYP['IMG_SIZE']),\n",
    "        A.Normalize(mean=(0.485, 0.456, 0.406), std=(0.229, 0.224, 0.225)), # Resnet 참고\n",
    "        ToTensorV2()\n",
    "])"
   ],
   "metadata": {
    "collapsed": false,
    "pycharm": {
     "name": "#%%\n"
    }
   }
  },
  {
   "cell_type": "code",
   "execution_count": 10,
   "outputs": [],
   "source": [
    "import torch.nn as nn\n",
    "from torch.utils.data import DataLoader, Dataset\n",
    "from sklearn.metrics import f1_score\n",
    "import time\n",
    "\n",
    "class Custom_dataset(Dataset):\n",
    "    def __init__(self, img_paths, labels, mode):\n",
    "        self.img_paths = img_paths\n",
    "        self.labels = labels\n",
    "        self.mode=mode\n",
    "\n",
    "    def __len__(self):\n",
    "        return len(self.img_paths)\n",
    "\n",
    "    def __getitem__(self, idx):\n",
    "        img = self.img_paths[idx]\n",
    "        if self.mode=='train':\n",
    "            img = train_transform(image=img)\n",
    "\n",
    "        if self.mode=='test':\n",
    "            img = test_transform(image=img)\n",
    "\n",
    "        label = self.labels[idx]\n",
    "        return img, label"
   ],
   "metadata": {
    "collapsed": false,
    "pycharm": {
     "name": "#%%\n"
    }
   }
  },
  {
   "cell_type": "markdown",
   "source": [
    "## Model Architecture"
   ],
   "metadata": {
    "collapsed": false,
    "pycharm": {
     "name": "#%% md\n"
    }
   }
  },
  {
   "cell_type": "code",
   "execution_count": 11,
   "outputs": [],
   "source": [
    "def count_parameters(model):\n",
    "    total_params = 0\n",
    "    for name, parameter in model.named_parameters():\n",
    "        if not parameter.requires_grad:\n",
    "            continue\n",
    "        param = parameter.numel()\n",
    "        total_params+=param\n",
    "    print(f\"Total Trainable Params: {total_params}\")\n",
    "    return total_params"
   ],
   "metadata": {
    "collapsed": false,
    "pycharm": {
     "name": "#%%\n"
    }
   }
  },
  {
   "cell_type": "code",
   "execution_count": 12,
   "outputs": [],
   "source": [
    "class Resnet50(torch.nn.Module):\n",
    "    def __init__(self):\n",
    "        super(Resnet50, self).__init__()\n",
    "        self.model = models.resnet50(pretrained=True)\n",
    "\n",
    "        num_ftrs = self.model.fc.in_features\n",
    "        self.model.fc = nn.Linear(num_ftrs, 10)\n",
    "\n",
    "        count_parameters(self.model)\n",
    "    def forward(self, inputs):\n",
    "        output = self.model(inputs)\n",
    "        return output\n",
    "\n",
    "class Network_b3(nn.Module):\n",
    "    def __init__(self):\n",
    "        super(Network_b3, self).__init__()\n",
    "        self.model = models.efficientnet_b3(pretrained=True)\n",
    "\n",
    "        # num_ftrs = self.model.fc.in_features\n",
    "        # self.model.fc = nn.Linear(num_ftrs, 10)\n",
    "\n",
    "        count_parameters(self.model)\n",
    "    def forward(self, inputs):\n",
    "        output = self.model(inputs)\n",
    "        return output"
   ],
   "metadata": {
    "collapsed": false,
    "pycharm": {
     "name": "#%%\n"
    }
   }
  },
  {
   "cell_type": "markdown",
   "source": [
    "## Loss"
   ],
   "metadata": {
    "collapsed": false,
    "pycharm": {
     "name": "#%% md\n"
    }
   }
  },
  {
   "cell_type": "code",
   "execution_count": 13,
   "outputs": [],
   "source": [
    "def score_function(real, pred):\n",
    "    score = f1_score(real, pred, average=\"macro\")\n",
    "    return score"
   ],
   "metadata": {
    "collapsed": false,
    "pycharm": {
     "name": "#%%\n"
    }
   }
  },
  {
   "cell_type": "markdown",
   "source": [
    "## Train"
   ],
   "metadata": {
    "collapsed": false,
    "pycharm": {
     "name": "#%% md\n"
    }
   }
  },
  {
   "cell_type": "code",
   "execution_count": 14,
   "outputs": [],
   "source": [
    "# Resnet = Resnet50().to(device)\n",
    "#\n",
    "# optimizer = torch.optim.Adam(Resnet.parameters(), lr=HYP['LEARNING_RATE'])\n",
    "# criterion = nn.CrossEntropyLoss()\n",
    "# scaler = torch.cuda.amp.GradScaler()\n",
    "#\n",
    "# path = './weights/'\n",
    "# if not os.path.isdir(path):\n",
    "#     os.mkdir(path)\n",
    "#\n",
    "# epochs = HYP['EPOCHS']\n",
    "#\n",
    "# for epoch in range(epochs):\n",
    "#     start=time.time()\n",
    "#     train_loss = 0\n",
    "#     train_pred=[]\n",
    "#     train_y=[]\n",
    "#     Resnet.train()\n",
    "#     for batch in (train_loader):\n",
    "#         optimizer.zero_grad()\n",
    "#         x = torch.tensor(batch[0]['image'], dtype=torch.float32, device=device)\n",
    "#         y = torch.tensor(batch[1], dtype=torch.long, device=device)\n",
    "#\n",
    "#         pred = Resnet(x)\n",
    "#         loss = criterion(pred, y)\n",
    "#\n",
    "#\n",
    "#         scaler.scale(loss).backward()\n",
    "#         scaler.step(optimizer)\n",
    "#         scaler.update()\n",
    "#\n",
    "#         train_loss += loss.item()/len(train_loader)\n",
    "#         train_pred += pred.argmax(1).detach().cpu().numpy().tolist()\n",
    "#         train_y += y.detach().cpu().numpy().tolist()\n",
    "#\n",
    "#     train_f1 = score_function(train_y, train_pred)\n",
    "#\n",
    "#     TIME = time.time() - start\n",
    "#     print(f'epoch : {epoch+1}/{epochs}    time : {TIME:.0f}s/{TIME*(epochs-epoch-1):.0f}s')\n",
    "#     print(f'TRAIN    loss : {train_loss:.5f}    f1 : {train_f1:.5f}')\n",
    "#\n",
    "#     # 모델 저장\n",
    "#     torch.save({\n",
    "#                 'epoch': epoch,\n",
    "#                 'model_state_dict': Resnet.state_dict(),\n",
    "#                 'optimizer_state_dict': optimizer.state_dict(),\n",
    "#                 \"scaler\": scaler.state_dict(),\n",
    "#                 'loss': loss,\n",
    "#                 }, f\"{path}/Resnet.pt\")"
   ],
   "metadata": {
    "collapsed": false,
    "pycharm": {
     "name": "#%%\n"
    }
   }
  },
  {
   "cell_type": "code",
   "execution_count": 20,
   "outputs": [],
   "source": [
    "path = './saved/'\n",
    "if not os.path.isdir(path):\n",
    "    os.mkdir(path)\n",
    "\n",
    "def train(model, optimizer, train_loader, vali_loader, scheduler, device, fold):\n",
    "\n",
    "    # Loss Function\n",
    "    criterion = nn.CrossEntropyLoss().to(device)\n",
    "    scaler = torch.cuda.amp.GradScaler()\n",
    "    best_f1 = 0\n",
    "\n",
    "    for epoch in range(1,HYP[\"EPOCHS\"]+1):\n",
    "        start=time.time()\n",
    "        model.train()\n",
    "        train_loss = 0\n",
    "        train_pred=[]\n",
    "        train_label=[]\n",
    "\n",
    "        for batch in (train_loader):\n",
    "            optimizer.zero_grad()\n",
    "            img = torch.tensor(batch[0]['image'], dtype=torch.float32, device=device)\n",
    "            label = torch.tensor(batch[1], dtype=torch.long, device=device)\n",
    "\n",
    "            with torch.cuda.amp.autocast():\n",
    "                pred = model(img)\n",
    "\n",
    "            # Calc loss\n",
    "            loss = criterion(pred, label)\n",
    "\n",
    "            # backpropagation\n",
    "            scaler.scale(loss).backward()\n",
    "            scaler.step(optimizer)\n",
    "            scaler.update()\n",
    "\n",
    "            train_loss += loss.item()/len(train_loader)\n",
    "            train_pred += pred.argmax(1).detach().cpu().numpy().tolist()\n",
    "            train_label += label.detach().cpu().numpy().tolist()\n",
    "\n",
    "        train_f1 = score_function(train_label, train_pred)\n",
    "\n",
    "        TIME = time.time() - start\n",
    "\n",
    "        epochs = HYP[\"EPOCHS\"]\n",
    "        print(f'epoch : {epoch}/{epochs}    time : {TIME:.0f}s/{TIME*(epochs-epoch-1):.0f}s')\n",
    "        print(f'TRAIN_loss : {train_loss:.5f}    train_f1 : {train_f1:.5f}')\n",
    "\n",
    "        if scheduler is not None:\n",
    "            scheduler.step()\n",
    "\n",
    "        # Evaluation Validation set\n",
    "        vali_f1 = validation(model, vali_loader, criterion, device)\n",
    "\n",
    "        print(f'Epoch [{epoch}] Train f1_score : [{np.mean(train_f1):.5f}] \\\n",
    "        Validation f1_score : [{vali_f1:.5f}]')\n",
    "\n",
    "        # Model Saved\n",
    "        if best_f1 < vali_f1:\n",
    "            best_f1 = vali_f1\n",
    "\n",
    "            torch.save(model.state_dict(), './saved/res50_fold{}.pth'.format(fold))\n",
    "            print('Model Saved.')\n",
    "\n",
    "    # plt.plot(train_loss, label = 'trn')\n",
    "    # plt.plot(vali_loss, label = 'vali')\n",
    "    # plt.legend(loc='upper right')\n",
    "    # plt.show()"
   ],
   "metadata": {
    "collapsed": false,
    "pycharm": {
     "name": "#%%\n"
    }
   }
  },
  {
   "cell_type": "code",
   "execution_count": 21,
   "outputs": [],
   "source": [
    "def validation(model, vali_loader, criterion, device):\n",
    "    model.eval() # Evaluation\n",
    "\n",
    "    vali_loss = 0\n",
    "    vali_pred = []\n",
    "    vali_label = []\n",
    "    with torch.no_grad():\n",
    "        for batch in (vali_loader):\n",
    "            img = torch.tensor(batch[0]['image'], dtype=torch.float32, device=device)\n",
    "            label = torch.tensor(batch[1], dtype=torch.long, device=device)\n",
    "\n",
    "            with torch.cuda.amp.autocast():\n",
    "                pred = model(img)\n",
    "\n",
    "            loss = criterion(pred, label)\n",
    "\n",
    "            vali_loss += loss.item()/len(vali_loader)\n",
    "            vali_pred += pred.argmax(1).detach().cpu().numpy().tolist()\n",
    "            vali_label += label.detach().cpu().numpy().tolist()\n",
    "\n",
    "        vali_f1 = score_function(vali_label, vali_pred)\n",
    "    return vali_f1\n",
    "\n",
    "    # if HYP['log']:\n",
    "    #     vali_nmae_loss = NMAE(np.expm1(np.array(label_true)), np.expm1(np.array(model_pred)))\n",
    "    #     diff = np.abs(np.expm1(np.array(label_true)) - np.expm1(np.array(model_pred)))\n",
    "    # else:\n",
    "    #     vali_nmae_loss = NMAE(np.array(label_true), np.array(model_pred))\n",
    "    #     diff = (np.array(label_true) - np.array(model_pred))\n",
    "\n",
    "\n",
    "    # if best_f1 > vali_f1:\n",
    "    #     plt.figure(figsize=(30,2))\n",
    "    #     plt.plot(best_f1, vali_f1)\n",
    "    #     plt.axhline(y=0.1*100, color='black')\n",
    "    #     plt.axhline(y=0.2*100, color='black')\n",
    "    #     plt.axhline(y=0.3*100, color='black')\n",
    "    #     plt.axhline(y=0.4*100, color='black')\n",
    "    #     plt.axhline(y=0.5*100, color='black')\n",
    "    #     # if HYP['log']:\n",
    "    #     #     plt.axhline(y=np.expm1(np.mean(label_true)), color='red')\n",
    "    #     # else:\n",
    "    #     #     plt.axhline(y=np.mean(label_true), color='red')\n",
    "    #     # ax_twin = plt.twinx()\n",
    "    #     # if HYP['log']:\n",
    "    #     #     ax_twin.plot(np.expm1(np.array(label_true)), alpha=0.5)\n",
    "    #     # else:\n",
    "    #     #     ax_twin.plot(np.array(label_true), alpha=0.5)\n",
    "    # plt.show()\n",
    "    # return vali_f1"
   ],
   "metadata": {
    "collapsed": false,
    "pycharm": {
     "name": "#%%\n"
    }
   }
  },
  {
   "cell_type": "code",
   "execution_count": 22,
   "outputs": [
    {
     "name": "stdout",
     "output_type": "stream",
     "text": [
      "################################################################################\n",
      "fold: 0\n",
      "Total Trainable Params: 12233232\n",
      "total_steps:  1570\n",
      "warmup_steps:  157\n",
      "epoch : 1/3    time : 100s/100s\n",
      "TRAIN_loss : 3.08305    train_f1 : 0.00508\n",
      "Epoch [1] Train f1_score : [0.00508]         Validation f1_score : [0.00000]\n",
      "epoch : 2/3    time : 99s/0s\n",
      "TRAIN_loss : 1.28396    train_f1 : 0.09299\n",
      "Epoch [2] Train f1_score : [0.09299]         Validation f1_score : [0.00000]\n",
      "epoch : 3/3    time : 99s/-99s\n",
      "TRAIN_loss : 1.15312    train_f1 : 0.13243\n",
      "Epoch [3] Train f1_score : [0.13243]         Validation f1_score : [0.00000]\n",
      "################################################################################\n",
      "fold: 1\n",
      "Total Trainable Params: 12233232\n",
      "total_steps:  1570\n",
      "warmup_steps:  157\n",
      "epoch : 1/3    time : 98s/98s\n",
      "TRAIN_loss : 3.60781    train_f1 : 0.00506\n",
      "Epoch [1] Train f1_score : [0.00506]         Validation f1_score : [0.00000]\n",
      "epoch : 2/3    time : 99s/0s\n",
      "TRAIN_loss : 1.61383    train_f1 : 0.08315\n",
      "Epoch [2] Train f1_score : [0.08315]         Validation f1_score : [0.00000]\n",
      "epoch : 3/3    time : 100s/-100s\n",
      "TRAIN_loss : 1.32615    train_f1 : 0.13573\n",
      "Epoch [3] Train f1_score : [0.13573]         Validation f1_score : [0.00000]\n",
      "################################################################################\n",
      "fold: 2\n",
      "Total Trainable Params: 12233232\n",
      "total_steps:  1570\n",
      "warmup_steps:  157\n",
      "epoch : 1/3    time : 98s/98s\n",
      "TRAIN_loss : 3.60801    train_f1 : 0.00529\n",
      "Epoch [1] Train f1_score : [0.00529]         Validation f1_score : [0.00000]\n",
      "epoch : 2/3    time : 99s/0s\n",
      "TRAIN_loss : 1.55194    train_f1 : 0.08380\n",
      "Epoch [2] Train f1_score : [0.08380]         Validation f1_score : [0.00000]\n",
      "epoch : 3/3    time : 99s/-99s\n",
      "TRAIN_loss : 1.41350    train_f1 : 0.10365\n",
      "Epoch [3] Train f1_score : [0.10365]         Validation f1_score : [0.00000]\n",
      "################################################################################\n",
      "fold: 3\n",
      "Total Trainable Params: 12233232\n",
      "total_steps:  1570\n",
      "warmup_steps:  157\n",
      "epoch : 1/3    time : 100s/100s\n",
      "TRAIN_loss : 3.26619    train_f1 : 0.00542\n",
      "Epoch [1] Train f1_score : [0.00542]         Validation f1_score : [0.00000]\n",
      "epoch : 2/3    time : 99s/0s\n",
      "TRAIN_loss : 1.53935    train_f1 : 0.09530\n",
      "Epoch [2] Train f1_score : [0.09530]         Validation f1_score : [0.00000]\n",
      "epoch : 3/3    time : 99s/-99s\n",
      "TRAIN_loss : 1.38911    train_f1 : 0.14332\n",
      "Epoch [3] Train f1_score : [0.14332]         Validation f1_score : [0.00000]\n",
      "################################################################################\n",
      "fold: 4\n",
      "Total Trainable Params: 12233232\n",
      "total_steps:  1570\n",
      "warmup_steps:  157\n",
      "epoch : 1/3    time : 101s/101s\n",
      "TRAIN_loss : 3.60754    train_f1 : 0.00535\n",
      "Epoch [1] Train f1_score : [0.00535]         Validation f1_score : [0.05225]\n",
      "Model Saved.\n",
      "epoch : 2/3    time : 103s/0s\n",
      "TRAIN_loss : 1.50933    train_f1 : 0.08070\n",
      "Epoch [2] Train f1_score : [0.08070]         Validation f1_score : [0.08702]\n",
      "Model Saved.\n",
      "epoch : 3/3    time : 102s/-102s\n",
      "TRAIN_loss : 1.41770    train_f1 : 0.11692\n",
      "Epoch [3] Train f1_score : [0.11692]         Validation f1_score : [0.39187]\n",
      "Model Saved.\n"
     ]
    }
   ],
   "source": [
    "list_idx = list(np.arange(0,len(train_imgs)))\n",
    "\n",
    "kf = KFold(n_splits=5)\n",
    "for fold, (train_idx, valid_idx) in enumerate(kf.split(list_idx)):\n",
    "    print(\"#\"*80)\n",
    "    print(\"fold: {}\".format(fold))\n",
    "    train_img_list = [train_imgs[i] for i in train_idx]\n",
    "    train_label = [train_labels[i] for i in train_idx]\n",
    "\n",
    "    vali_img_list = [train_imgs[i] for i in valid_idx]\n",
    "    vali_label = [train_labels[i] for i in valid_idx]\n",
    "\n",
    "    # Get Dataloader\n",
    "    train_dataset = Custom_dataset(train_img_list, train_label, mode='train',)\n",
    "    train_loader = DataLoader(train_dataset, batch_size = HYP['BATCH_SIZE'], shuffle=False, num_workers=0)\n",
    "\n",
    "    vali_dataset = Custom_dataset(vali_img_list, vali_label, mode='train')\n",
    "    vali_loader = DataLoader(vali_dataset, batch_size = HYP['BATCH_SIZE'], shuffle=False, num_workers=0)\n",
    "\n",
    "    model = Network_b3().to(device)\n",
    "\n",
    "    optimizer = torch.optim.Adam(model.parameters(), lr=HYP['LEARNING_RATE'])\n",
    "\n",
    "    total_steps = int(len(train_dataset)*HYP['EPOCHS']/(HYP['BATCH_SIZE']))\n",
    "    warmup_ratio = 0.1\n",
    "    warmup_steps = int(total_steps * warmup_ratio)\n",
    "    print('total_steps: ', total_steps)\n",
    "    print('warmup_steps: ', warmup_steps)\n",
    "    scheduler = None\n",
    "    # scheduler = get_cosine_schedule_with_warmup(optimizer, num_warmup_steps=warmup_steps, num_training_steps=total_steps)\n",
    "    train(model, optimizer, train_loader, vali_loader, scheduler, device, fold)"
   ],
   "metadata": {
    "collapsed": false,
    "pycharm": {
     "name": "#%%\n"
    }
   }
  },
  {
   "cell_type": "code",
   "execution_count": 26,
   "outputs": [
    {
     "name": "stdout",
     "output_type": "stream",
     "text": [
      "Total Trainable Params: 12233232\n"
     ]
    },
    {
     "ename": "RuntimeError",
     "evalue": "Error(s) in loading state_dict for Network_b3:\n\tMissing key(s) in state_dict: \"model.features.0.0.weight\", \"model.features.0.1.weight\", \"model.features.0.1.bias\", \"model.features.0.1.running_mean\", \"model.features.0.1.running_var\", \"model.features.1.0.block.0.0.weight\", \"model.features.1.0.block.0.1.weight\", \"model.features.1.0.block.0.1.bias\", \"model.features.1.0.block.0.1.running_mean\", \"model.features.1.0.block.0.1.running_var\", \"model.features.1.0.block.1.fc1.weight\", \"model.features.1.0.block.1.fc1.bias\", \"model.features.1.0.block.1.fc2.weight\", \"model.features.1.0.block.1.fc2.bias\", \"model.features.1.0.block.2.0.weight\", \"model.features.1.0.block.2.1.weight\", \"model.features.1.0.block.2.1.bias\", \"model.features.1.0.block.2.1.running_mean\", \"model.features.1.0.block.2.1.running_var\", \"model.features.1.1.block.0.0.weight\", \"model.features.1.1.block.0.1.weight\", \"model.features.1.1.block.0.1.bias\", \"model.features.1.1.block.0.1.running_mean\", \"model.features.1.1.block.0.1.running_var\", \"model.features.1.1.block.1.fc1.weight\", \"model.features.1.1.block.1.fc1.bias\", \"model.features.1.1.block.1.fc2.weight\", \"model.features.1.1.block.1.fc2.bias\", \"model.features.1.1.block.2.0.weight\", \"model.features.1.1.block.2.1.weight\", \"model.features.1.1.block.2.1.bias\", \"model.features.1.1.block.2.1.running_mean\", \"model.features.1.1.block.2.1.running_var\", \"model.features.2.0.block.0.0.weight\", \"model.features.2.0.block.0.1.weight\", \"model.features.2.0.block.0.1.bias\", \"model.features.2.0.block.0.1.running_mean\", \"model.features.2.0.block.0.1.running_var\", \"model.features.2.0.block.1.0.weight\", \"model.features.2.0.block.1.1.weight\", \"model.features.2.0.block.1.1.bias\", \"model.features.2.0.block.1.1.running_mean\", \"model.features.2.0.block.1.1.running_var\", \"model.features.2.0.block.2.fc1.weight\", \"model.features.2.0.block.2.fc1.bias\", \"model.features.2.0.block.2.fc2.weight\", \"model.features.2.0.block.2.fc2.bias\", \"model.features.2.0.block.3.0.weight\", \"model.features.2.0.block.3.1.weight\", \"model.features.2.0.block.3.1.bias\", \"model.features.2.0.block.3.1.running_mean\", \"model.features.2.0.block.3.1.running_var\", \"model.features.2.1.block.0.0.weight\", \"model.features.2.1.block.0.1.weight\", \"model.features.2.1.block.0.1.bias\", \"model.features.2.1.block.0.1.running_mean\", \"model.features.2.1.block.0.1.running_var\", \"model.features.2.1.block.1.0.weight\", \"model.features.2.1.block.1.1.weight\", \"model.features.2.1.block.1.1.bias\", \"model.features.2.1.block.1.1.running_mean\", \"model.features.2.1.block.1.1.running_var\", \"model.features.2.1.block.2.fc1.weight\", \"model.features.2.1.block.2.fc1.bias\", \"model.features.2.1.block.2.fc2.weight\", \"model.features.2.1.block.2.fc2.bias\", \"model.features.2.1.block.3.0.weight\", \"model.features.2.1.block.3.1.weight\", \"model.features.2.1.block.3.1.bias\", \"model.features.2.1.block.3.1.running_mean\", \"model.features.2.1.block.3.1.running_var\", \"model.features.2.2.block.0.0.weight\", \"model.features.2.2.block.0.1.weight\", \"model.features.2.2.block.0.1.bias\", \"model.features.2.2.block.0.1.running_mean\", \"model.features.2.2.block.0.1.running_var\", \"model.features.2.2.block.1.0.weight\", \"model.features.2.2.block.1.1.weight\", \"model.features.2.2.block.1.1.bias\", \"model.features.2.2.block.1.1.running_mean\", \"model.features.2.2.block.1.1.running_var\", \"model.features.2.2.block.2.fc1.weight\", \"model.features.2.2.block.2.fc1.bias\", \"model.features.2.2.block.2.fc2.weight\", \"model.features.2.2.block.2.fc2.bias\", \"model.features.2.2.block.3.0.weight\", \"model.features.2.2.block.3.1.weight\", \"model.features.2.2.block.3.1.bias\", \"model.features.2.2.block.3.1.running_mean\", \"model.features.2.2.block.3.1.running_var\", \"model.features.3.0.block.0.0.weight\", \"model.features.3.0.block.0.1.weight\", \"model.features.3.0.block.0.1.bias\", \"model.features.3.0.block.0.1.running_mean\", \"model.features.3.0.block.0.1.running_var\", \"model.features.3.0.block.1.0.weight\", \"model.features.3.0.block.1.1.weight\", \"model.features.3.0.block.1.1.bias\", \"model.features.3.0.block.1.1.running_mean\", \"model.features.3.0.block.1.1.running_var\", \"model.features.3.0.block.2.fc1.weight\", \"model.features.3.0.block.2.fc1.bias\", \"model.features.3.0.block.2.fc2.weight\", \"model.features.3.0.block.2.fc2.bias\", \"model.features.3.0.block.3.0.weight\", \"model.features.3.0.block.3.1.weight\", \"model.features.3.0.block.3.1.bias\", \"model.features.3.0.block.3.1.running_mean\", \"model.features.3.0.block.3.1.running_var\", \"model.features.3.1.block.0.0.weight\", \"model.features.3.1.block.0.1.weight\", \"model.features.3.1.block.0.1.bias\", \"model.features.3.1.block.0.1.running_mean\", \"model.features.3.1.block.0.1.running_var\", \"model.features.3.1.block.1.0.weight\", \"model.features.3.1.block.1.1.weight\", \"model.features.3.1.block.1.1.bias\", \"model.features.3.1.block.1.1.running_mean\", \"model.features.3.1.block.1.1.running_var\", \"model.features.3.1.block.2.fc1.weight\", \"model.features.3.1.block.2.fc1.bias\", \"model.features.3.1.block.2.fc2.weight\", \"model.features.3.1.block.2.fc2.bias\", \"model.features.3.1.block.3.0.weight\", \"model.features.3.1.block.3.1.weight\", \"model.features.3.1.block.3.1.bias\", \"model.features.3.1.block.3.1.running_mean\", \"model.features.3.1.block.3.1.running_var\", \"model.features.3.2.block.0.0.weight\", \"model.features.3.2.block.0.1.weight\", \"model.features.3.2.block.0.1.bias\", \"model.features.3.2.block.0.1.running_mean\", \"model.features.3.2.block.0.1.running_var\", \"model.features.3.2.block.1.0.weight\", \"model.features.3.2.block.1.1.weight\", \"model.features.3.2.block.1.1.bias\", \"model.features.3.2.block.1.1.running_mean\", \"model.features.3.2.block.1.1.running_var\", \"model.features.3.2.block.2.fc1.weight\", \"model.features.3.2.block.2.fc1.bias\", \"model.features.3.2.block.2.fc2.weight\", \"model.features.3.2.block.2.fc2.bias\", \"model.features.3.2.block.3.0.weight\", \"model.features.3.2.block.3.1.weight\", \"model.features.3.2.block.3.1.bias\", \"model.features.3.2.block.3.1.running_mean\", \"model.features.3.2.block.3.1.running_var\", \"model.features.4.0.block.0.0.weight\", \"model.features.4.0.block.0.1.weight\", \"model.features.4.0.block.0.1.bias\", \"model.features.4.0.block.0.1.running_mean\", \"model.features.4.0.block.0.1.running_var\", \"model.features.4.0.block.1.0.weight\", \"model.features.4.0.block.1.1.weight\", \"model.features.4.0.block.1.1.bias\", \"model.features.4.0.block.1.1.running_mean\", \"model.features.4.0.block.1.1.running_var\", \"model.features.4.0.block.2.fc1.weight\", \"model.features.4.0.block.2.fc1.bias\", \"model.features.4.0.block.2.fc2.weight\", \"model.features.4.0.block.2.fc2.bias\", \"model.features.4.0.block.3.0.weight\", \"model.features.4.0.block.3.1.weight\", \"model.features.4.0.block.3.1.bias\", \"model.features.4.0.block.3.1.running_mean\", \"model.features.4.0.block.3.1.running_var\", \"model.features.4.1.block.0.0.weight\", \"model.features.4.1.block.0.1.weight\", \"model.features.4.1.block.0.1.bias\", \"model.features.4.1.block.0.1.running_mean\", \"model.features.4.1.block.0.1.running_var\", \"model.features.4.1.block.1.0.weight\", \"model.features.4.1.block.1.1.weight\", \"model.features.4.1.block.1.1.bias\", \"model.features.4.1.block.1.1.running_mean\", \"model.features.4.1.block.1.1.running_var\", \"model.features.4.1.block.2.fc1.weight\", \"model.features.4.1.block.2.fc1.bias\", \"model.features.4.1.block.2.fc2.weight\", \"model.features.4.1.block.2.fc2.bias\", \"model.features.4.1.block.3.0.weight\", \"model.features.4.1.block.3.1.weight\", \"model.features.4.1.block.3.1.bias\", \"model.features.4.1.block.3.1.running_mean\", \"model.features.4.1.block.3.1.running_var\", \"model.features.4.2.block.0.0.weight\", \"model.features.4.2.block.0.1.weight\", \"model.features.4.2.block.0.1.bias\", \"model.features.4.2.block.0.1.running_mean\", \"model.features.4.2.block.0.1.running_var\", \"model.features.4.2.block.1.0.weight\", \"model.features.4.2.block.1.1.weight\", \"model.features.4.2.block.1.1.bias\", \"model.features.4.2.block.1.1.running_mean\", \"model.features.4.2.block.1.1.running_var\", \"model.features.4.2.block.2.fc1.weight\", \"model.features.4.2.block.2.fc1.bias\", \"model.features.4.2.block.2.fc2.weight\", \"model.features.4.2.block.2.fc2.bias\", \"model.features.4.2.block.3.0.weight\", \"model.features.4.2.block.3.1.weight\", \"model.features.4.2.block.3.1.bias\", \"model.features.4.2.block.3.1.running_mean\", \"model.features.4.2.block.3.1.running_var\", \"model.features.4.3.block.0.0.weight\", \"model.features.4.3.block.0.1.weight\", \"model.features.4.3.block.0.1.bias\", \"model.features.4.3.block.0.1.running_mean\", \"model.features.4.3.block.0.1.running_var\", \"model.features.4.3.block.1.0.weight\", \"model.features.4.3.block.1.1.weight\", \"model.features.4.3.block.1.1.bias\", \"model.features.4.3.block.1.1.running_mean\", \"model.features.4.3.block.1.1.running_var\", \"model.features.4.3.block.2.fc1.weight\", \"model.features.4.3.block.2.fc1.bias\", \"model.features.4.3.block.2.fc2.weight\", \"model.features.4.3.block.2.fc2.bias\", \"model.features.4.3.block.3.0.weight\", \"model.features.4.3.block.3.1.weight\", \"model.features.4.3.block.3.1.bias\", \"model.features.4.3.block.3.1.running_mean\", \"model.features.4.3.block.3.1.running_var\", \"model.features.4.4.block.0.0.weight\", \"model.features.4.4.block.0.1.weight\", \"model.features.4.4.block.0.1.bias\", \"model.features.4.4.block.0.1.running_mean\", \"model.features.4.4.block.0.1.running_var\", \"model.features.4.4.block.1.0.weight\", \"model.features.4.4.block.1.1.weight\", \"model.features.4.4.block.1.1.bias\", \"model.features.4.4.block.1.1.running_mean\", \"model.features.4.4.block.1.1.running_var\", \"model.features.4.4.block.2.fc1.weight\", \"model.features.4.4.block.2.fc1.bias\", \"model.features.4.4.block.2.fc2.weight\", \"model.features.4.4.block.2.fc2.bias\", \"model.features.4.4.block.3.0.weight\", \"model.features.4.4.block.3.1.weight\", \"model.features.4.4.block.3.1.bias\", \"model.features.4.4.block.3.1.running_mean\", \"model.features.4.4.block.3.1.running_var\", \"model.features.5.0.block.0.0.weight\", \"model.features.5.0.block.0.1.weight\", \"model.features.5.0.block.0.1.bias\", \"model.features.5.0.block.0.1.running_mean\", \"model.features.5.0.block.0.1.running_var\", \"model.features.5.0.block.1.0.weight\", \"model.features.5.0.block.1.1.weight\", \"model.features.5.0.block.1.1.bias\", \"model.features.5.0.block.1.1.running_mean\", \"model.features.5.0.block.1.1.running_var\", \"model.features.5.0.block.2.fc1.weight\", \"model.features.5.0.block.2.fc1.bias\", \"model.features.5.0.block.2.fc2.weight\", \"model.features.5.0.block.2.fc2.bias\", \"model.features.5.0.block.3.0.weight\", \"model.features.5.0.block.3.1.weight\", \"model.features.5.0.block.3.1.bias\", \"model.features.5.0.block.3.1.running_mean\", \"model.features.5.0.block.3.1.running_var\", \"model.features.5.1.block.0.0.weight\", \"model.features.5.1.block.0.1.weight\", \"model.features.5.1.block.0.1.bias\", \"model.features.5.1.block.0.1.running_mean\", \"model.features.5.1.block.0.1.running_var\", \"model.features.5.1.block.1.0.weight\", \"model.features.5.1.block.1.1.weight\", \"model.features.5.1.block.1.1.bias\", \"model.features.5.1.block.1.1.running_mean\", \"model.features.5.1.block.1.1.running_var\", \"model.features.5.1.block.2.fc1.weight\", \"model.features.5.1.block.2.fc1.bias\", \"model.features.5.1.block.2.fc2.weight\", \"model.features.5.1.block.2.fc2.bias\", \"model.features.5.1.block.3.0.weight\", \"model.features.5.1.block.3.1.weight\", \"model.features.5.1.block.3.1.bias\", \"model.features.5.1.block.3.1.running_mean\", \"model.features.5.1.block.3.1.running_var\", \"model.features.5.2.block.0.0.weight\", \"model.features.5.2.block.0.1.weight\", \"model.features.5.2.block.0.1.bias\", \"model.features.5.2.block.0.1.running_mean\", \"model.features.5.2.block.0.1.running_var\", \"model.features.5.2.block.1.0.weight\", \"model.features.5.2.block.1.1.weight\", \"model.features.5.2.block.1.1.bias\", \"model.features.5.2.block.1.1.running_mean\", \"model.features.5.2.block.1.1.running_var\", \"model.features.5.2.block.2.fc1.weight\", \"model.features.5.2.block.2.fc1.bias\", \"model.features.5.2.block.2.fc2.weight\", \"model.features.5.2.block.2.fc2.bias\", \"model.features.5.2.block.3.0.weight\", \"model.features.5.2.block.3.1.weight\", \"model.features.5.2.block.3.1.bias\", \"model.features.5.2.block.3.1.running_mean\", \"model.features.5.2.block.3.1.running_var\", \"model.features.5.3.block.0.0.weight\", \"model.features.5.3.block.0.1.weight\", \"model.features.5.3.block.0.1.bias\", \"model.features.5.3.block.0.1.running_mean\", \"model.features.5.3.block.0.1.running_var\", \"model.features.5.3.block.1.0.weight\", \"model.features.5.3.block.1.1.weight\", \"model.features.5.3.block.1.1.bias\", \"model.features.5.3.block.1.1.running_mean\", \"model.features.5.3.block.1.1.running_var\", \"model.features.5.3.block.2.fc1.weight\", \"model.features.5.3.block.2.fc1.bias\", \"model.features.5.3.block.2.fc2.weight\", \"model.features.5.3.block.2.fc2.bias\", \"model.features.5.3.block.3.0.weight\", \"model.features.5.3.block.3.1.weight\", \"model.features.5.3.block.3.1.bias\", \"model.features.5.3.block.3.1.running_mean\", \"model.features.5.3.block.3.1.running_var\", \"model.features.5.4.block.0.0.weight\", \"model.features.5.4.block.0.1.weight\", \"model.features.5.4.block.0.1.bias\", \"model.features.5.4.block.0.1.running_mean\", \"model.features.5.4.block.0.1.running_var\", \"model.features.5.4.block.1.0.weight\", \"model.features.5.4.block.1.1.weight\", \"model.features.5.4.block.1.1.bias\", \"model.features.5.4.block.1.1.running_mean\", \"model.features.5.4.block.1.1.running_var\", \"model.features.5.4.block.2.fc1.weight\", \"model.features.5.4.block.2.fc1.bias\", \"model.features.5.4.block.2.fc2.weight\", \"model.features.5.4.block.2.fc2.bias\", \"model.features.5.4.block.3.0.weight\", \"model.features.5.4.block.3.1.weight\", \"model.features.5.4.block.3.1.bias\", \"model.features.5.4.block.3.1.running_mean\", \"model.features.5.4.block.3.1.running_var\", \"model.features.6.0.block.0.0.weight\", \"model.features.6.0.block.0.1.weight\", \"model.features.6.0.block.0.1.bias\", \"model.features.6.0.block.0.1.running_mean\", \"model.features.6.0.block.0.1.running_var\", \"model.features.6.0.block.1.0.weight\", \"model.features.6.0.block.1.1.weight\", \"model.features.6.0.block.1.1.bias\", \"model.features.6.0.block.1.1.running_mean\", \"model.features.6.0.block.1.1.running_var\", \"model.features.6.0.block.2.fc1.weight\", \"model.features.6.0.block.2.fc1.bias\", \"model.features.6.0.block.2.fc2.weight\", \"model.features.6.0.block.2.fc2.bias\", \"model.features.6.0.block.3.0.weight\", \"model.features.6.0.block.3.1.weight\", \"model.features.6.0.block.3.1.bias\", \"model.features.6.0.block.3.1.running_mean\", \"model.features.6.0.block.3.1.running_var\", \"model.features.6.1.block.0.0.weight\", \"model.features.6.1.block.0.1.weight\", \"model.features.6.1.block.0.1.bias\", \"model.features.6.1.block.0.1.running_mean\", \"model.features.6.1.block.0.1.running_var\", \"model.features.6.1.block.1.0.weight\", \"model.features.6.1.block.1.1.weight\", \"model.features.6.1.block.1.1.bias\", \"model.features.6.1.block.1.1.running_mean\", \"model.features.6.1.block.1.1.running_var\", \"model.features.6.1.block.2.fc1.weight\", \"model.features.6.1.block.2.fc1.bias\", \"model.features.6.1.block.2.fc2.weight\", \"model.features.6.1.block.2.fc2.bias\", \"model.features.6.1.block.3.0.weight\", \"model.features.6.1.block.3.1.weight\", \"model.features.6.1.block.3.1.bias\", \"model.features.6.1.block.3.1.running_mean\", \"model.features.6.1.block.3.1.running_var\", \"model.features.6.2.block.0.0.weight\", \"model.features.6.2.block.0.1.weight\", \"model.features.6.2.block.0.1.bias\", \"model.features.6.2.block.0.1.running_mean\", \"model.features.6.2.block.0.1.running_var\", \"model.features.6.2.block.1.0.weight\", \"model.features.6.2.block.1.1.weight\", \"model.features.6.2.block.1.1.bias\", \"model.features.6.2.block.1.1.running_mean\", \"model.features.6.2.block.1.1.running_var\", \"model.features.6.2.block.2.fc1.weight\", \"model.features.6.2.block.2.fc1.bias\", \"model.features.6.2.block.2.fc2.weight\", \"model.features.6.2.block.2.fc2.bias\", \"model.features.6.2.block.3.0.weight\", \"model.features.6.2.block.3.1.weight\", \"model.features.6.2.block.3.1.bias\", \"model.features.6.2.block.3.1.running_mean\", \"model.features.6.2.block.3.1.running_var\", \"model.features.6.3.block.0.0.weight\", \"model.features.6.3.block.0.1.weight\", \"model.features.6.3.block.0.1.bias\", \"model.features.6.3.block.0.1.running_mean\", \"model.features.6.3.block.0.1.running_var\", \"model.features.6.3.block.1.0.weight\", \"model.features.6.3.block.1.1.weight\", \"model.features.6.3.block.1.1.bias\", \"model.features.6.3.block.1.1.running_mean\", \"model.features.6.3.block.1.1.running_var\", \"model.features.6.3.block.2.fc1.weight\", \"model.features.6.3.block.2.fc1.bias\", \"model.features.6.3.block.2.fc2.weight\", \"model.features.6.3.block.2.fc2.bias\", \"model.features.6.3.block.3.0.weight\", \"model.features.6.3.block.3.1.weight\", \"model.features.6.3.block.3.1.bias\", \"model.features.6.3.block.3.1.running_mean\", \"model.features.6.3.block.3.1.running_var\", \"model.features.6.4.block.0.0.weight\", \"model.features.6.4.block.0.1.weight\", \"model.features.6.4.block.0.1.bias\", \"model.features.6.4.block.0.1.running_mean\", \"model.features.6.4.block.0.1.running_var\", \"model.features.6.4.block.1.0.weight\", \"model.features.6.4.block.1.1.weight\", \"model.features.6.4.block.1.1.bias\", \"model.features.6.4.block.1.1.running_mean\", \"model.features.6.4.block.1.1.running_var\", \"model.features.6.4.block.2.fc1.weight\", \"model.features.6.4.block.2.fc1.bias\", \"model.features.6.4.block.2.fc2.weight\", \"model.features.6.4.block.2.fc2.bias\", \"model.features.6.4.block.3.0.weight\", \"model.features.6.4.block.3.1.weight\", \"model.features.6.4.block.3.1.bias\", \"model.features.6.4.block.3.1.running_mean\", \"model.features.6.4.block.3.1.running_var\", \"model.features.6.5.block.0.0.weight\", \"model.features.6.5.block.0.1.weight\", \"model.features.6.5.block.0.1.bias\", \"model.features.6.5.block.0.1.running_mean\", \"model.features.6.5.block.0.1.running_var\", \"model.features.6.5.block.1.0.weight\", \"model.features.6.5.block.1.1.weight\", \"model.features.6.5.block.1.1.bias\", \"model.features.6.5.block.1.1.running_mean\", \"model.features.6.5.block.1.1.running_var\", \"model.features.6.5.block.2.fc1.weight\", \"model.features.6.5.block.2.fc1.bias\", \"model.features.6.5.block.2.fc2.weight\", \"model.features.6.5.block.2.fc2.bias\", \"model.features.6.5.block.3.0.weight\", \"model.features.6.5.block.3.1.weight\", \"model.features.6.5.block.3.1.bias\", \"model.features.6.5.block.3.1.running_mean\", \"model.features.6.5.block.3.1.running_var\", \"model.features.7.0.block.0.0.weight\", \"model.features.7.0.block.0.1.weight\", \"model.features.7.0.block.0.1.bias\", \"model.features.7.0.block.0.1.running_mean\", \"model.features.7.0.block.0.1.running_var\", \"model.features.7.0.block.1.0.weight\", \"model.features.7.0.block.1.1.weight\", \"model.features.7.0.block.1.1.bias\", \"model.features.7.0.block.1.1.running_mean\", \"model.features.7.0.block.1.1.running_var\", \"model.features.7.0.block.2.fc1.weight\", \"model.features.7.0.block.2.fc1.bias\", \"model.features.7.0.block.2.fc2.weight\", \"model.features.7.0.block.2.fc2.bias\", \"model.features.7.0.block.3.0.weight\", \"model.features.7.0.block.3.1.weight\", \"model.features.7.0.block.3.1.bias\", \"model.features.7.0.block.3.1.running_mean\", \"model.features.7.0.block.3.1.running_var\", \"model.features.7.1.block.0.0.weight\", \"model.features.7.1.block.0.1.weight\", \"model.features.7.1.block.0.1.bias\", \"model.features.7.1.block.0.1.running_mean\", \"model.features.7.1.block.0.1.running_var\", \"model.features.7.1.block.1.0.weight\", \"model.features.7.1.block.1.1.weight\", \"model.features.7.1.block.1.1.bias\", \"model.features.7.1.block.1.1.running_mean\", \"model.features.7.1.block.1.1.running_var\", \"model.features.7.1.block.2.fc1.weight\", \"model.features.7.1.block.2.fc1.bias\", \"model.features.7.1.block.2.fc2.weight\", \"model.features.7.1.block.2.fc2.bias\", \"model.features.7.1.block.3.0.weight\", \"model.features.7.1.block.3.1.weight\", \"model.features.7.1.block.3.1.bias\", \"model.features.7.1.block.3.1.running_mean\", \"model.features.7.1.block.3.1.running_var\", \"model.features.8.0.weight\", \"model.features.8.1.weight\", \"model.features.8.1.bias\", \"model.features.8.1.running_mean\", \"model.features.8.1.running_var\", \"model.classifier.1.weight\", \"model.classifier.1.bias\". \n\tUnexpected key(s) in state_dict: \"epoch\", \"model_state_dict\", \"optimizer_state_dict\", \"scaler\", \"loss\". ",
     "output_type": "error",
     "traceback": [
      "\u001B[1;31m---------------------------------------------------------------------------\u001B[0m",
      "\u001B[1;31mRuntimeError\u001B[0m                              Traceback (most recent call last)",
      "Input \u001B[1;32mIn [26]\u001B[0m, in \u001B[0;36m<cell line: 39>\u001B[1;34m()\u001B[0m\n\u001B[0;32m     37\u001B[0m checkpoint \u001B[38;5;241m=\u001B[39m torch\u001B[38;5;241m.\u001B[39mload(\u001B[38;5;124m'\u001B[39m\u001B[38;5;124m./saved/res50_fold\u001B[39m\u001B[38;5;132;01m{}\u001B[39;00m\u001B[38;5;124m.pth\u001B[39m\u001B[38;5;124m'\u001B[39m\u001B[38;5;241m.\u001B[39mformat(fold))\n\u001B[0;32m     38\u001B[0m model \u001B[38;5;241m=\u001B[39m Network_b3()\u001B[38;5;241m.\u001B[39mto(device)\n\u001B[1;32m---> 39\u001B[0m \u001B[43mmodel\u001B[49m\u001B[38;5;241;43m.\u001B[39;49m\u001B[43mload_state_dict\u001B[49m\u001B[43m(\u001B[49m\u001B[43mcheckpoint\u001B[49m\u001B[43m)\u001B[49m\n\u001B[0;32m     41\u001B[0m preds \u001B[38;5;241m=\u001B[39m predict(model, test_loader, device)\n",
      "File \u001B[1;32m~\\.conda\\envs\\py38\\lib\\site-packages\\torch\\nn\\modules\\module.py:1604\u001B[0m, in \u001B[0;36mModule.load_state_dict\u001B[1;34m(self, state_dict, strict)\u001B[0m\n\u001B[0;32m   1599\u001B[0m         error_msgs\u001B[38;5;241m.\u001B[39minsert(\n\u001B[0;32m   1600\u001B[0m             \u001B[38;5;241m0\u001B[39m, \u001B[38;5;124m'\u001B[39m\u001B[38;5;124mMissing key(s) in state_dict: \u001B[39m\u001B[38;5;132;01m{}\u001B[39;00m\u001B[38;5;124m. \u001B[39m\u001B[38;5;124m'\u001B[39m\u001B[38;5;241m.\u001B[39mformat(\n\u001B[0;32m   1601\u001B[0m                 \u001B[38;5;124m'\u001B[39m\u001B[38;5;124m, \u001B[39m\u001B[38;5;124m'\u001B[39m\u001B[38;5;241m.\u001B[39mjoin(\u001B[38;5;124m'\u001B[39m\u001B[38;5;124m\"\u001B[39m\u001B[38;5;132;01m{}\u001B[39;00m\u001B[38;5;124m\"\u001B[39m\u001B[38;5;124m'\u001B[39m\u001B[38;5;241m.\u001B[39mformat(k) \u001B[38;5;28;01mfor\u001B[39;00m k \u001B[38;5;129;01min\u001B[39;00m missing_keys)))\n\u001B[0;32m   1603\u001B[0m \u001B[38;5;28;01mif\u001B[39;00m \u001B[38;5;28mlen\u001B[39m(error_msgs) \u001B[38;5;241m>\u001B[39m \u001B[38;5;241m0\u001B[39m:\n\u001B[1;32m-> 1604\u001B[0m     \u001B[38;5;28;01mraise\u001B[39;00m \u001B[38;5;167;01mRuntimeError\u001B[39;00m(\u001B[38;5;124m'\u001B[39m\u001B[38;5;124mError(s) in loading state_dict for \u001B[39m\u001B[38;5;132;01m{}\u001B[39;00m\u001B[38;5;124m:\u001B[39m\u001B[38;5;130;01m\\n\u001B[39;00m\u001B[38;5;130;01m\\t\u001B[39;00m\u001B[38;5;132;01m{}\u001B[39;00m\u001B[38;5;124m'\u001B[39m\u001B[38;5;241m.\u001B[39mformat(\n\u001B[0;32m   1605\u001B[0m                        \u001B[38;5;28mself\u001B[39m\u001B[38;5;241m.\u001B[39m\u001B[38;5;18m__class__\u001B[39m\u001B[38;5;241m.\u001B[39m\u001B[38;5;18m__name__\u001B[39m, \u001B[38;5;124m\"\u001B[39m\u001B[38;5;130;01m\\n\u001B[39;00m\u001B[38;5;130;01m\\t\u001B[39;00m\u001B[38;5;124m\"\u001B[39m\u001B[38;5;241m.\u001B[39mjoin(error_msgs)))\n\u001B[0;32m   1606\u001B[0m \u001B[38;5;28;01mreturn\u001B[39;00m _IncompatibleKeys(missing_keys, unexpected_keys)\n",
      "\u001B[1;31mRuntimeError\u001B[0m: Error(s) in loading state_dict for Network_b3:\n\tMissing key(s) in state_dict: \"model.features.0.0.weight\", \"model.features.0.1.weight\", \"model.features.0.1.bias\", \"model.features.0.1.running_mean\", \"model.features.0.1.running_var\", \"model.features.1.0.block.0.0.weight\", \"model.features.1.0.block.0.1.weight\", \"model.features.1.0.block.0.1.bias\", \"model.features.1.0.block.0.1.running_mean\", \"model.features.1.0.block.0.1.running_var\", \"model.features.1.0.block.1.fc1.weight\", \"model.features.1.0.block.1.fc1.bias\", \"model.features.1.0.block.1.fc2.weight\", \"model.features.1.0.block.1.fc2.bias\", \"model.features.1.0.block.2.0.weight\", \"model.features.1.0.block.2.1.weight\", \"model.features.1.0.block.2.1.bias\", \"model.features.1.0.block.2.1.running_mean\", \"model.features.1.0.block.2.1.running_var\", \"model.features.1.1.block.0.0.weight\", \"model.features.1.1.block.0.1.weight\", \"model.features.1.1.block.0.1.bias\", \"model.features.1.1.block.0.1.running_mean\", \"model.features.1.1.block.0.1.running_var\", \"model.features.1.1.block.1.fc1.weight\", \"model.features.1.1.block.1.fc1.bias\", \"model.features.1.1.block.1.fc2.weight\", \"model.features.1.1.block.1.fc2.bias\", \"model.features.1.1.block.2.0.weight\", \"model.features.1.1.block.2.1.weight\", \"model.features.1.1.block.2.1.bias\", \"model.features.1.1.block.2.1.running_mean\", \"model.features.1.1.block.2.1.running_var\", \"model.features.2.0.block.0.0.weight\", \"model.features.2.0.block.0.1.weight\", \"model.features.2.0.block.0.1.bias\", \"model.features.2.0.block.0.1.running_mean\", \"model.features.2.0.block.0.1.running_var\", \"model.features.2.0.block.1.0.weight\", \"model.features.2.0.block.1.1.weight\", \"model.features.2.0.block.1.1.bias\", \"model.features.2.0.block.1.1.running_mean\", \"model.features.2.0.block.1.1.running_var\", \"model.features.2.0.block.2.fc1.weight\", \"model.features.2.0.block.2.fc1.bias\", \"model.features.2.0.block.2.fc2.weight\", \"model.features.2.0.block.2.fc2.bias\", \"model.features.2.0.block.3.0.weight\", \"model.features.2.0.block.3.1.weight\", \"model.features.2.0.block.3.1.bias\", \"model.features.2.0.block.3.1.running_mean\", \"model.features.2.0.block.3.1.running_var\", \"model.features.2.1.block.0.0.weight\", \"model.features.2.1.block.0.1.weight\", \"model.features.2.1.block.0.1.bias\", \"model.features.2.1.block.0.1.running_mean\", \"model.features.2.1.block.0.1.running_var\", \"model.features.2.1.block.1.0.weight\", \"model.features.2.1.block.1.1.weight\", \"model.features.2.1.block.1.1.bias\", \"model.features.2.1.block.1.1.running_mean\", \"model.features.2.1.block.1.1.running_var\", \"model.features.2.1.block.2.fc1.weight\", \"model.features.2.1.block.2.fc1.bias\", \"model.features.2.1.block.2.fc2.weight\", \"model.features.2.1.block.2.fc2.bias\", \"model.features.2.1.block.3.0.weight\", \"model.features.2.1.block.3.1.weight\", \"model.features.2.1.block.3.1.bias\", \"model.features.2.1.block.3.1.running_mean\", \"model.features.2.1.block.3.1.running_var\", \"model.features.2.2.block.0.0.weight\", \"model.features.2.2.block.0.1.weight\", \"model.features.2.2.block.0.1.bias\", \"model.features.2.2.block.0.1.running_mean\", \"model.features.2.2.block.0.1.running_var\", \"model.features.2.2.block.1.0.weight\", \"model.features.2.2.block.1.1.weight\", \"model.features.2.2.block.1.1.bias\", \"model.features.2.2.block.1.1.running_mean\", \"model.features.2.2.block.1.1.running_var\", \"model.features.2.2.block.2.fc1.weight\", \"model.features.2.2.block.2.fc1.bias\", \"model.features.2.2.block.2.fc2.weight\", \"model.features.2.2.block.2.fc2.bias\", \"model.features.2.2.block.3.0.weight\", \"model.features.2.2.block.3.1.weight\", \"model.features.2.2.block.3.1.bias\", \"model.features.2.2.block.3.1.running_mean\", \"model.features.2.2.block.3.1.running_var\", \"model.features.3.0.block.0.0.weight\", \"model.features.3.0.block.0.1.weight\", \"model.features.3.0.block.0.1.bias\", \"model.features.3.0.block.0.1.running_mean\", \"model.features.3.0.block.0.1.running_var\", \"model.features.3.0.block.1.0.weight\", \"model.features.3.0.block.1.1.weight\", \"model.features.3.0.block.1.1.bias\", \"model.features.3.0.block.1.1.running_mean\", \"model.features.3.0.block.1.1.running_var\", \"model.features.3.0.block.2.fc1.weight\", \"model.features.3.0.block.2.fc1.bias\", \"model.features.3.0.block.2.fc2.weight\", \"model.features.3.0.block.2.fc2.bias\", \"model.features.3.0.block.3.0.weight\", \"model.features.3.0.block.3.1.weight\", \"model.features.3.0.block.3.1.bias\", \"model.features.3.0.block.3.1.running_mean\", \"model.features.3.0.block.3.1.running_var\", \"model.features.3.1.block.0.0.weight\", \"model.features.3.1.block.0.1.weight\", \"model.features.3.1.block.0.1.bias\", \"model.features.3.1.block.0.1.running_mean\", \"model.features.3.1.block.0.1.running_var\", \"model.features.3.1.block.1.0.weight\", \"model.features.3.1.block.1.1.weight\", \"model.features.3.1.block.1.1.bias\", \"model.features.3.1.block.1.1.running_mean\", \"model.features.3.1.block.1.1.running_var\", \"model.features.3.1.block.2.fc1.weight\", \"model.features.3.1.block.2.fc1.bias\", \"model.features.3.1.block.2.fc2.weight\", \"model.features.3.1.block.2.fc2.bias\", \"model.features.3.1.block.3.0.weight\", \"model.features.3.1.block.3.1.weight\", \"model.features.3.1.block.3.1.bias\", \"model.features.3.1.block.3.1.running_mean\", \"model.features.3.1.block.3.1.running_var\", \"model.features.3.2.block.0.0.weight\", \"model.features.3.2.block.0.1.weight\", \"model.features.3.2.block.0.1.bias\", \"model.features.3.2.block.0.1.running_mean\", \"model.features.3.2.block.0.1.running_var\", \"model.features.3.2.block.1.0.weight\", \"model.features.3.2.block.1.1.weight\", \"model.features.3.2.block.1.1.bias\", \"model.features.3.2.block.1.1.running_mean\", \"model.features.3.2.block.1.1.running_var\", \"model.features.3.2.block.2.fc1.weight\", \"model.features.3.2.block.2.fc1.bias\", \"model.features.3.2.block.2.fc2.weight\", \"model.features.3.2.block.2.fc2.bias\", \"model.features.3.2.block.3.0.weight\", \"model.features.3.2.block.3.1.weight\", \"model.features.3.2.block.3.1.bias\", \"model.features.3.2.block.3.1.running_mean\", \"model.features.3.2.block.3.1.running_var\", \"model.features.4.0.block.0.0.weight\", \"model.features.4.0.block.0.1.weight\", \"model.features.4.0.block.0.1.bias\", \"model.features.4.0.block.0.1.running_mean\", \"model.features.4.0.block.0.1.running_var\", \"model.features.4.0.block.1.0.weight\", \"model.features.4.0.block.1.1.weight\", \"model.features.4.0.block.1.1.bias\", \"model.features.4.0.block.1.1.running_mean\", \"model.features.4.0.block.1.1.running_var\", \"model.features.4.0.block.2.fc1.weight\", \"model.features.4.0.block.2.fc1.bias\", \"model.features.4.0.block.2.fc2.weight\", \"model.features.4.0.block.2.fc2.bias\", \"model.features.4.0.block.3.0.weight\", \"model.features.4.0.block.3.1.weight\", \"model.features.4.0.block.3.1.bias\", \"model.features.4.0.block.3.1.running_mean\", \"model.features.4.0.block.3.1.running_var\", \"model.features.4.1.block.0.0.weight\", \"model.features.4.1.block.0.1.weight\", \"model.features.4.1.block.0.1.bias\", \"model.features.4.1.block.0.1.running_mean\", \"model.features.4.1.block.0.1.running_var\", \"model.features.4.1.block.1.0.weight\", \"model.features.4.1.block.1.1.weight\", \"model.features.4.1.block.1.1.bias\", \"model.features.4.1.block.1.1.running_mean\", \"model.features.4.1.block.1.1.running_var\", \"model.features.4.1.block.2.fc1.weight\", \"model.features.4.1.block.2.fc1.bias\", \"model.features.4.1.block.2.fc2.weight\", \"model.features.4.1.block.2.fc2.bias\", \"model.features.4.1.block.3.0.weight\", \"model.features.4.1.block.3.1.weight\", \"model.features.4.1.block.3.1.bias\", \"model.features.4.1.block.3.1.running_mean\", \"model.features.4.1.block.3.1.running_var\", \"model.features.4.2.block.0.0.weight\", \"model.features.4.2.block.0.1.weight\", \"model.features.4.2.block.0.1.bias\", \"model.features.4.2.block.0.1.running_mean\", \"model.features.4.2.block.0.1.running_var\", \"model.features.4.2.block.1.0.weight\", \"model.features.4.2.block.1.1.weight\", \"model.features.4.2.block.1.1.bias\", \"model.features.4.2.block.1.1.running_mean\", \"model.features.4.2.block.1.1.running_var\", \"model.features.4.2.block.2.fc1.weight\", \"model.features.4.2.block.2.fc1.bias\", \"model.features.4.2.block.2.fc2.weight\", \"model.features.4.2.block.2.fc2.bias\", \"model.features.4.2.block.3.0.weight\", \"model.features.4.2.block.3.1.weight\", \"model.features.4.2.block.3.1.bias\", \"model.features.4.2.block.3.1.running_mean\", \"model.features.4.2.block.3.1.running_var\", \"model.features.4.3.block.0.0.weight\", \"model.features.4.3.block.0.1.weight\", \"model.features.4.3.block.0.1.bias\", \"model.features.4.3.block.0.1.running_mean\", \"model.features.4.3.block.0.1.running_var\", \"model.features.4.3.block.1.0.weight\", \"model.features.4.3.block.1.1.weight\", \"model.features.4.3.block.1.1.bias\", \"model.features.4.3.block.1.1.running_mean\", \"model.features.4.3.block.1.1.running_var\", \"model.features.4.3.block.2.fc1.weight\", \"model.features.4.3.block.2.fc1.bias\", \"model.features.4.3.block.2.fc2.weight\", \"model.features.4.3.block.2.fc2.bias\", \"model.features.4.3.block.3.0.weight\", \"model.features.4.3.block.3.1.weight\", \"model.features.4.3.block.3.1.bias\", \"model.features.4.3.block.3.1.running_mean\", \"model.features.4.3.block.3.1.running_var\", \"model.features.4.4.block.0.0.weight\", \"model.features.4.4.block.0.1.weight\", \"model.features.4.4.block.0.1.bias\", \"model.features.4.4.block.0.1.running_mean\", \"model.features.4.4.block.0.1.running_var\", \"model.features.4.4.block.1.0.weight\", \"model.features.4.4.block.1.1.weight\", \"model.features.4.4.block.1.1.bias\", \"model.features.4.4.block.1.1.running_mean\", \"model.features.4.4.block.1.1.running_var\", \"model.features.4.4.block.2.fc1.weight\", \"model.features.4.4.block.2.fc1.bias\", \"model.features.4.4.block.2.fc2.weight\", \"model.features.4.4.block.2.fc2.bias\", \"model.features.4.4.block.3.0.weight\", \"model.features.4.4.block.3.1.weight\", \"model.features.4.4.block.3.1.bias\", \"model.features.4.4.block.3.1.running_mean\", \"model.features.4.4.block.3.1.running_var\", \"model.features.5.0.block.0.0.weight\", \"model.features.5.0.block.0.1.weight\", \"model.features.5.0.block.0.1.bias\", \"model.features.5.0.block.0.1.running_mean\", \"model.features.5.0.block.0.1.running_var\", \"model.features.5.0.block.1.0.weight\", \"model.features.5.0.block.1.1.weight\", \"model.features.5.0.block.1.1.bias\", \"model.features.5.0.block.1.1.running_mean\", \"model.features.5.0.block.1.1.running_var\", \"model.features.5.0.block.2.fc1.weight\", \"model.features.5.0.block.2.fc1.bias\", \"model.features.5.0.block.2.fc2.weight\", \"model.features.5.0.block.2.fc2.bias\", \"model.features.5.0.block.3.0.weight\", \"model.features.5.0.block.3.1.weight\", \"model.features.5.0.block.3.1.bias\", \"model.features.5.0.block.3.1.running_mean\", \"model.features.5.0.block.3.1.running_var\", \"model.features.5.1.block.0.0.weight\", \"model.features.5.1.block.0.1.weight\", \"model.features.5.1.block.0.1.bias\", \"model.features.5.1.block.0.1.running_mean\", \"model.features.5.1.block.0.1.running_var\", \"model.features.5.1.block.1.0.weight\", \"model.features.5.1.block.1.1.weight\", \"model.features.5.1.block.1.1.bias\", \"model.features.5.1.block.1.1.running_mean\", \"model.features.5.1.block.1.1.running_var\", \"model.features.5.1.block.2.fc1.weight\", \"model.features.5.1.block.2.fc1.bias\", \"model.features.5.1.block.2.fc2.weight\", \"model.features.5.1.block.2.fc2.bias\", \"model.features.5.1.block.3.0.weight\", \"model.features.5.1.block.3.1.weight\", \"model.features.5.1.block.3.1.bias\", \"model.features.5.1.block.3.1.running_mean\", \"model.features.5.1.block.3.1.running_var\", \"model.features.5.2.block.0.0.weight\", \"model.features.5.2.block.0.1.weight\", \"model.features.5.2.block.0.1.bias\", \"model.features.5.2.block.0.1.running_mean\", \"model.features.5.2.block.0.1.running_var\", \"model.features.5.2.block.1.0.weight\", \"model.features.5.2.block.1.1.weight\", \"model.features.5.2.block.1.1.bias\", \"model.features.5.2.block.1.1.running_mean\", \"model.features.5.2.block.1.1.running_var\", \"model.features.5.2.block.2.fc1.weight\", \"model.features.5.2.block.2.fc1.bias\", \"model.features.5.2.block.2.fc2.weight\", \"model.features.5.2.block.2.fc2.bias\", \"model.features.5.2.block.3.0.weight\", \"model.features.5.2.block.3.1.weight\", \"model.features.5.2.block.3.1.bias\", \"model.features.5.2.block.3.1.running_mean\", \"model.features.5.2.block.3.1.running_var\", \"model.features.5.3.block.0.0.weight\", \"model.features.5.3.block.0.1.weight\", \"model.features.5.3.block.0.1.bias\", \"model.features.5.3.block.0.1.running_mean\", \"model.features.5.3.block.0.1.running_var\", \"model.features.5.3.block.1.0.weight\", \"model.features.5.3.block.1.1.weight\", \"model.features.5.3.block.1.1.bias\", \"model.features.5.3.block.1.1.running_mean\", \"model.features.5.3.block.1.1.running_var\", \"model.features.5.3.block.2.fc1.weight\", \"model.features.5.3.block.2.fc1.bias\", \"model.features.5.3.block.2.fc2.weight\", \"model.features.5.3.block.2.fc2.bias\", \"model.features.5.3.block.3.0.weight\", \"model.features.5.3.block.3.1.weight\", \"model.features.5.3.block.3.1.bias\", \"model.features.5.3.block.3.1.running_mean\", \"model.features.5.3.block.3.1.running_var\", \"model.features.5.4.block.0.0.weight\", \"model.features.5.4.block.0.1.weight\", \"model.features.5.4.block.0.1.bias\", \"model.features.5.4.block.0.1.running_mean\", \"model.features.5.4.block.0.1.running_var\", \"model.features.5.4.block.1.0.weight\", \"model.features.5.4.block.1.1.weight\", \"model.features.5.4.block.1.1.bias\", \"model.features.5.4.block.1.1.running_mean\", \"model.features.5.4.block.1.1.running_var\", \"model.features.5.4.block.2.fc1.weight\", \"model.features.5.4.block.2.fc1.bias\", \"model.features.5.4.block.2.fc2.weight\", \"model.features.5.4.block.2.fc2.bias\", \"model.features.5.4.block.3.0.weight\", \"model.features.5.4.block.3.1.weight\", \"model.features.5.4.block.3.1.bias\", \"model.features.5.4.block.3.1.running_mean\", \"model.features.5.4.block.3.1.running_var\", \"model.features.6.0.block.0.0.weight\", \"model.features.6.0.block.0.1.weight\", \"model.features.6.0.block.0.1.bias\", \"model.features.6.0.block.0.1.running_mean\", \"model.features.6.0.block.0.1.running_var\", \"model.features.6.0.block.1.0.weight\", \"model.features.6.0.block.1.1.weight\", \"model.features.6.0.block.1.1.bias\", \"model.features.6.0.block.1.1.running_mean\", \"model.features.6.0.block.1.1.running_var\", \"model.features.6.0.block.2.fc1.weight\", \"model.features.6.0.block.2.fc1.bias\", \"model.features.6.0.block.2.fc2.weight\", \"model.features.6.0.block.2.fc2.bias\", \"model.features.6.0.block.3.0.weight\", \"model.features.6.0.block.3.1.weight\", \"model.features.6.0.block.3.1.bias\", \"model.features.6.0.block.3.1.running_mean\", \"model.features.6.0.block.3.1.running_var\", \"model.features.6.1.block.0.0.weight\", \"model.features.6.1.block.0.1.weight\", \"model.features.6.1.block.0.1.bias\", \"model.features.6.1.block.0.1.running_mean\", \"model.features.6.1.block.0.1.running_var\", \"model.features.6.1.block.1.0.weight\", \"model.features.6.1.block.1.1.weight\", \"model.features.6.1.block.1.1.bias\", \"model.features.6.1.block.1.1.running_mean\", \"model.features.6.1.block.1.1.running_var\", \"model.features.6.1.block.2.fc1.weight\", \"model.features.6.1.block.2.fc1.bias\", \"model.features.6.1.block.2.fc2.weight\", \"model.features.6.1.block.2.fc2.bias\", \"model.features.6.1.block.3.0.weight\", \"model.features.6.1.block.3.1.weight\", \"model.features.6.1.block.3.1.bias\", \"model.features.6.1.block.3.1.running_mean\", \"model.features.6.1.block.3.1.running_var\", \"model.features.6.2.block.0.0.weight\", \"model.features.6.2.block.0.1.weight\", \"model.features.6.2.block.0.1.bias\", \"model.features.6.2.block.0.1.running_mean\", \"model.features.6.2.block.0.1.running_var\", \"model.features.6.2.block.1.0.weight\", \"model.features.6.2.block.1.1.weight\", \"model.features.6.2.block.1.1.bias\", \"model.features.6.2.block.1.1.running_mean\", \"model.features.6.2.block.1.1.running_var\", \"model.features.6.2.block.2.fc1.weight\", \"model.features.6.2.block.2.fc1.bias\", \"model.features.6.2.block.2.fc2.weight\", \"model.features.6.2.block.2.fc2.bias\", \"model.features.6.2.block.3.0.weight\", \"model.features.6.2.block.3.1.weight\", \"model.features.6.2.block.3.1.bias\", \"model.features.6.2.block.3.1.running_mean\", \"model.features.6.2.block.3.1.running_var\", \"model.features.6.3.block.0.0.weight\", \"model.features.6.3.block.0.1.weight\", \"model.features.6.3.block.0.1.bias\", \"model.features.6.3.block.0.1.running_mean\", \"model.features.6.3.block.0.1.running_var\", \"model.features.6.3.block.1.0.weight\", \"model.features.6.3.block.1.1.weight\", \"model.features.6.3.block.1.1.bias\", \"model.features.6.3.block.1.1.running_mean\", \"model.features.6.3.block.1.1.running_var\", \"model.features.6.3.block.2.fc1.weight\", \"model.features.6.3.block.2.fc1.bias\", \"model.features.6.3.block.2.fc2.weight\", \"model.features.6.3.block.2.fc2.bias\", \"model.features.6.3.block.3.0.weight\", \"model.features.6.3.block.3.1.weight\", \"model.features.6.3.block.3.1.bias\", \"model.features.6.3.block.3.1.running_mean\", \"model.features.6.3.block.3.1.running_var\", \"model.features.6.4.block.0.0.weight\", \"model.features.6.4.block.0.1.weight\", \"model.features.6.4.block.0.1.bias\", \"model.features.6.4.block.0.1.running_mean\", \"model.features.6.4.block.0.1.running_var\", \"model.features.6.4.block.1.0.weight\", \"model.features.6.4.block.1.1.weight\", \"model.features.6.4.block.1.1.bias\", \"model.features.6.4.block.1.1.running_mean\", \"model.features.6.4.block.1.1.running_var\", \"model.features.6.4.block.2.fc1.weight\", \"model.features.6.4.block.2.fc1.bias\", \"model.features.6.4.block.2.fc2.weight\", \"model.features.6.4.block.2.fc2.bias\", \"model.features.6.4.block.3.0.weight\", \"model.features.6.4.block.3.1.weight\", \"model.features.6.4.block.3.1.bias\", \"model.features.6.4.block.3.1.running_mean\", \"model.features.6.4.block.3.1.running_var\", \"model.features.6.5.block.0.0.weight\", \"model.features.6.5.block.0.1.weight\", \"model.features.6.5.block.0.1.bias\", \"model.features.6.5.block.0.1.running_mean\", \"model.features.6.5.block.0.1.running_var\", \"model.features.6.5.block.1.0.weight\", \"model.features.6.5.block.1.1.weight\", \"model.features.6.5.block.1.1.bias\", \"model.features.6.5.block.1.1.running_mean\", \"model.features.6.5.block.1.1.running_var\", \"model.features.6.5.block.2.fc1.weight\", \"model.features.6.5.block.2.fc1.bias\", \"model.features.6.5.block.2.fc2.weight\", \"model.features.6.5.block.2.fc2.bias\", \"model.features.6.5.block.3.0.weight\", \"model.features.6.5.block.3.1.weight\", \"model.features.6.5.block.3.1.bias\", \"model.features.6.5.block.3.1.running_mean\", \"model.features.6.5.block.3.1.running_var\", \"model.features.7.0.block.0.0.weight\", \"model.features.7.0.block.0.1.weight\", \"model.features.7.0.block.0.1.bias\", \"model.features.7.0.block.0.1.running_mean\", \"model.features.7.0.block.0.1.running_var\", \"model.features.7.0.block.1.0.weight\", \"model.features.7.0.block.1.1.weight\", \"model.features.7.0.block.1.1.bias\", \"model.features.7.0.block.1.1.running_mean\", \"model.features.7.0.block.1.1.running_var\", \"model.features.7.0.block.2.fc1.weight\", \"model.features.7.0.block.2.fc1.bias\", \"model.features.7.0.block.2.fc2.weight\", \"model.features.7.0.block.2.fc2.bias\", \"model.features.7.0.block.3.0.weight\", \"model.features.7.0.block.3.1.weight\", \"model.features.7.0.block.3.1.bias\", \"model.features.7.0.block.3.1.running_mean\", \"model.features.7.0.block.3.1.running_var\", \"model.features.7.1.block.0.0.weight\", \"model.features.7.1.block.0.1.weight\", \"model.features.7.1.block.0.1.bias\", \"model.features.7.1.block.0.1.running_mean\", \"model.features.7.1.block.0.1.running_var\", \"model.features.7.1.block.1.0.weight\", \"model.features.7.1.block.1.1.weight\", \"model.features.7.1.block.1.1.bias\", \"model.features.7.1.block.1.1.running_mean\", \"model.features.7.1.block.1.1.running_var\", \"model.features.7.1.block.2.fc1.weight\", \"model.features.7.1.block.2.fc1.bias\", \"model.features.7.1.block.2.fc2.weight\", \"model.features.7.1.block.2.fc2.bias\", \"model.features.7.1.block.3.0.weight\", \"model.features.7.1.block.3.1.weight\", \"model.features.7.1.block.3.1.bias\", \"model.features.7.1.block.3.1.running_mean\", \"model.features.7.1.block.3.1.running_var\", \"model.features.8.0.weight\", \"model.features.8.1.weight\", \"model.features.8.1.bias\", \"model.features.8.1.running_mean\", \"model.features.8.1.running_var\", \"model.classifier.1.weight\", \"model.classifier.1.bias\". \n\tUnexpected key(s) in state_dict: \"epoch\", \"model_state_dict\", \"optimizer_state_dict\", \"scaler\", \"loss\". "
     ]
    }
   ],
   "source": [
    "test_dataset = Custom_dataset(np.array(test_imgs), np.array([\"tmp\"]*len(test_imgs)), mode='test')\n",
    "test_loader = DataLoader(test_dataset, batch_size = HYP[\"BATCH_SIZE\"], shuffle=False, num_workers=0)\n",
    "\n",
    "def predict(model, test_loader, device):\n",
    "    model.eval()\n",
    "    test_loss = []\n",
    "    model_pred = []\n",
    "    test_pred=[]\n",
    "    test_label=[]\n",
    "\n",
    "    with torch.no_grad():\n",
    "        for batch in (test_loader):\n",
    "            img = torch.tensor(batch[0]['image'], dtype=torch.float32, device=device)\n",
    "            label = torch.tensor(batch[1], dtype=torch.long, device=device)\n",
    "\n",
    "            pred = model(img)\n",
    "            pred = pred.squeeze(1).detach().cpu()\n",
    "            # loss = criterion(pred, label)\n",
    "            #\n",
    "            # test_loss.append(loss.item())\n",
    "\n",
    "            pred = pred.squeeze(1).detach().cpu()\n",
    "            label = label.detach().cpu()\n",
    "\n",
    "            test_pred += pred.argmax(1).detach().cpu().numpy().tolist()\n",
    "            test_label += label.detach().cpu().numpy().tolist()\n",
    "\n",
    "            # test_label.extend(label.tolist())\n",
    "            # test_pred.extend(pred.tolist())\n",
    "            # model_pred.extend(pred.tolist())\n",
    "\n",
    "        test_f1 = score_function(test_label, test_pred)\n",
    "        print(f'test_f1 [{test_f1}]')\n",
    "\n",
    "    return model_pred\n",
    "\n",
    "checkpoint = torch.load('./saved/res50_fold{}.pth'.format(fold))\n",
    "model = Network_b3().to(device)\n",
    "model.load_state_dict(checkpoint)\n",
    "\n",
    "preds = predict(model, test_loader, device)"
   ],
   "metadata": {
    "collapsed": false,
    "pycharm": {
     "name": "#%%\n"
    }
   }
  },
  {
   "cell_type": "code",
   "execution_count": null,
   "outputs": [],
   "source": [],
   "metadata": {
    "collapsed": false,
    "pycharm": {
     "name": "#%%\n"
    }
   }
  }
 ],
 "metadata": {
  "kernelspec": {
   "display_name": "Python 3",
   "language": "python",
   "name": "python3"
  },
  "language_info": {
   "codemirror_mode": {
    "name": "ipython",
    "version": 2
   },
   "file_extension": ".py",
   "mimetype": "text/x-python",
   "name": "python",
   "nbconvert_exporter": "python",
   "pygments_lexer": "ipython2",
   "version": "2.7.6"
  }
 },
 "nbformat": 4,
 "nbformat_minor": 0
}